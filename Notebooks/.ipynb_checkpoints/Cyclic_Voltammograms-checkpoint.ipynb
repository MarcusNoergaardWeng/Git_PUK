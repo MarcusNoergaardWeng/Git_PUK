{
 "cells": [
  {
   "cell_type": "markdown",
   "id": "125c216d",
   "metadata": {},
   "source": [
    "## Using energy prediction models on simulated surfaces"
   ]
  },
  {
   "cell_type": "code",
   "execution_count": 8,
   "id": "48063411",
   "metadata": {},
   "outputs": [],
   "source": [
    "import warnings\n",
    "warnings.filterwarnings('ignore')\n",
    "\n",
    "import xgboost as xgb\n",
    "import numpy as np"
   ]
  },
  {
   "cell_type": "markdown",
   "id": "8d6f5602",
   "metadata": {},
   "source": [
    "#### Load energy prediction model for hollow site and on-top site"
   ]
  },
  {
   "cell_type": "code",
   "execution_count": 5,
   "id": "29cdc920",
   "metadata": {},
   "outputs": [],
   "source": [
    "hollow_site_model = xgb.Booster({'nthread': 4})\n",
    "hollow_site_model.load_model(\"../models/\"+\"Hollow_site.model\")\n",
    "\n",
    "on_top_site_model = xgb.Booster({'nthread': 4})\n",
    "on_top_site_model.load_model(\"../models/\"+\"on_top_site.model\")"
   ]
  },
  {
   "cell_type": "markdown",
   "id": "8c3a625e",
   "metadata": {},
   "source": [
    "### Create surface\n",
    "\n",
    "The five metals used are (in alphabetical order): Ag, Au, Cu, Pd, Pt. A 100x100 surface in three layers with an even metal-distribution is created in a simple NumPy array. "
   ]
  },
  {
   "cell_type": "code",
   "execution_count": 6,
   "id": "6da77d77",
   "metadata": {},
   "outputs": [],
   "source": [
    "metals = ['Ag', 'Au', 'Cu', 'Pd', 'Pt']"
   ]
  },
  {
   "cell_type": "code",
   "execution_count": 9,
   "id": "f2412d79",
   "metadata": {},
   "outputs": [],
   "source": [
    "# Make a 100x100x3 surface with an even distribution of the five metals\n",
    "\n",
    "dim_x, dim_y, dim_z = 100, 100, 3 #Specify dimensions\n",
    "\n",
    "surface_list = np.array([int(dim_x*dim_y*dim_z/len(metals))*[metals[metal_number]] for metal_number in range(len(metals))]).flatten() #Jack had a way shorter way of doing this, but I think it was random drawing instead of ensuring a perfectly even split\n",
    "np.random.shuffle(surface_list) #Shuffle list\n",
    "surface = np.reshape(surface_list, (dim_x, dim_y, dim_z)) #Reshape list to the "
   ]
  },
  {
   "cell_type": "code",
   "execution_count": null,
   "id": "e9d1b390",
   "metadata": {},
   "outputs": [],
   "source": [
    "def on_top_site_vector(surface, site_x, site_y):\n",
    "    \n",
    "    #sites_vector = [0 for n in range(15)] Maybe just smash top6, mid3 and bot3 together\n",
    "\n",
    "    top6 = [surface[site_x % 100, (site_y-1) % 100, 0], surface[site_x % 100, (site_y+1) % 100, 0], surface[(site_x-1) % 100, site_y % 100, 0], surface[(site_x+1) % 100, site_y % 100, 0], surface[(site_x-1) % 100, (site_y+1) % 100, 0], surface[(site_x+1) % 100, (site_y-1) % 100, 0]]\n",
    "    top6_count = [top6.count(metals[n]) for n in range(len(metals))]\n",
    "    \n",
    "    mid3 = [surface[(site_x-1) % 100, (site_y-1) % 100,1], surface[site_x % 100, (site_y-1) % 100,1], surface[(site_x-1) % 100, site_y % 100,1]]\n",
    "    mid3_count = [mid3.count(metals[n]) for n in range(len(metals))]\n",
    "    \n",
    "    bot3 = [surface[(site_x-1) % 100, (site_y-1) % 100, 2], surface[(site_x-1) % 100, (site_y+1) % 100, 2], surface[(site_x+1) % 100, (site_y-1) % 100, 2]]\n",
    "    bot3_count = [bot3.count(metals[n]) for n in range(len(metals))]\n",
    "    \n",
    "    return top6_count + mid3_count + bot3_count\n",
    "\n",
    "three_metals_combinations = [] #List of possible combinations of the three\n",
    "# Der skal være 35, ikke 125\n",
    "\n",
    "for a in metals:\n",
    "    for b in metals:\n",
    "        for c in metals:\n",
    "            three_metals_combinations.append(''.join(sorted([a, b, c])))\n",
    "            \n",
    "# Remove duplicates\n",
    "three_metals_combinations = list(dict.fromkeys(three_metals_combinations)) # Let's encode it in a better way later\n",
    "\n",
    "def hollow_site_vector(surface, site_x, site_y):\n",
    "    # First encode the 3 neighbours\n",
    "    blues = [surface[(site_x+1) % 100, site_y, 0], surface[site_x, (site_y+1) % 100, 0], surface[(site_x+1) % 100, (site_y+1) % 100, 0]]\n",
    "    blues = \"\".join(sorted(blues))\n",
    "    idx = three_metals_combinations.index(blues)\n",
    "    blues = 35*[0]\n",
    "    blues[idx] = 1\n",
    "    \n",
    "    # Then the next neighbours (green)\n",
    "    greens = [surface[(site_x+2) % 100, site_y, 0], surface[site_x, (site_y+2) % 100, 0], surface[site_x, site_y, 0]]\n",
    "    greens_count = [greens.count(metals[n]) for n in range(len(metals))]\n",
    "    \n",
    "    # Then the next neighbours (brown) # Kunne gøres smartede med list comprehension og to lister med +- zipped\n",
    "    browns = [surface[(site_x + a) % 100, (site_y + b) % 100, c] for a, b, c in zip([1, 2, 2, 1, -1, -1], [2, 1, -1, -1, 1, 2], [0, 0, 0, 0, 0, 0])]\n",
    "    browns_count = [browns.count(metals[n]) for n in range(len(metals))]\n",
    "    \n",
    "    # Then the three downstairs neighbours\n",
    "    yellows = [surface[(site_x + a) % 100, (site_y + b) % 100, c] for a, b, c in zip([0, 1, 0], [0, 0, 1], [1, 1, 1])]\n",
    "    yellows_count = [yellows.count(metals[n]) for n in range(len(metals))]\n",
    "    \n",
    "    # Then the purples downstairs\n",
    "    purples = [surface[(site_x + a) % 100, (site_y + b) % 100, c] for a, b, c in zip([1, -1, 1], [-1, 1, 1], [1, 1, 1])]\n",
    "    purples_count = [purples.count(metals[n]) for n in range(len(metals))]\n",
    "    \n",
    "    return blues + greens_count + browns_count + yellows_count + purples_count"
   ]
  },
  {
   "cell_type": "markdown",
   "id": "fa403d85",
   "metadata": {},
   "source": [
    "## Predict energies of all surface sites\n",
    "\n",
    "I will use the combined H and O model for **hollow sites** model for all hollow sites and the OH model for **on-top** sites"
   ]
  },
  {
   "cell_type": "code",
   "execution_count": null,
   "id": "b9fe826b",
   "metadata": {},
   "outputs": [],
   "source": [
    "# Use both models on all sites\n",
    "for site_x in range(100): #Looping through all on top sites\n",
    "    for site_y in range(100):\n",
    "        \n",
    "        # Create vector for on-top site\n",
    "        on_top_vec = on_top_site_vector(surface, site_x, site_y)\n",
    "        \n",
    "        # Create vector for hollow site / fcc site\n",
    "        hollow_site_vec = hollow_site_vector(surface, site_x, site_y)\n",
    "        \n",
    "        # CALCULATE ENERGY HERE! FOR ALL REACTIONS\n",
    "        \n",
    "        \n",
    "        # which we actually need models for. I think we only have a model for OH eller O\n",
    "        # When you get here, you need to make simple models for all three adsorbates\n",
    "\n",
    "# Plot all energies in nice colours like the parity plot"
   ]
  }
 ],
 "metadata": {
  "kernelspec": {
   "display_name": "Python 3 (ipykernel)",
   "language": "python",
   "name": "python3"
  },
  "language_info": {
   "codemirror_mode": {
    "name": "ipython",
    "version": 3
   },
   "file_extension": ".py",
   "mimetype": "text/x-python",
   "name": "python",
   "nbconvert_exporter": "python",
   "pygments_lexer": "ipython3",
   "version": "3.10.8"
  }
 },
 "nbformat": 4,
 "nbformat_minor": 5
}
