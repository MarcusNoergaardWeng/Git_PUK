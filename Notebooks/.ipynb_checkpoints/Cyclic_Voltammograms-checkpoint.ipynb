{
 "cells": [
  {
   "cell_type": "markdown",
   "id": "8c3af0b5",
   "metadata": {},
   "source": [
    "# Cyclic Voltammograms"
   ]
  },
  {
   "cell_type": "markdown",
   "id": "d03f4def",
   "metadata": {},
   "source": [
    "### Imports"
   ]
  },
  {
   "cell_type": "code",
   "execution_count": 1,
   "id": "7e19de61",
   "metadata": {},
   "outputs": [],
   "source": [
    "import ase\n",
    "from ase.db import connect\n",
    "import numpy as np"
   ]
  },
  {
   "cell_type": "markdown",
   "id": "7a145ace",
   "metadata": {},
   "source": [
    "### Create surface\n",
    "\n",
    "The five metals used are (in alphabetical order): Ag, Au, Cu, Pd, Pt. A 100x100 surface in three layers with an even metal-distribution is created in a simple NumPy array. "
   ]
  },
  {
   "cell_type": "code",
   "execution_count": 2,
   "id": "91ecb879",
   "metadata": {},
   "outputs": [],
   "source": [
    "metals = ['Ag', 'Au', 'Cu', 'Pd', 'Pt']"
   ]
  },
  {
   "cell_type": "code",
   "execution_count": 3,
   "id": "284adb99",
   "metadata": {},
   "outputs": [],
   "source": [
    "# Make a 100x100x3 surface with an even distribution of the five metals\n",
    "\n",
    "dim_x, dim_y, dim_z = 100, 100, 3 #Specify dimensions\n",
    "\n",
    "surface_list = np.array([int(dim_x*dim_y*dim_z/len(metals))*[metals[metal_number]] for metal_number in range(len(metals))]).flatten() #Jack had a way shorter way of doing this, but I think it was random drawing instead of ensuring a perfectly even split\n",
    "np.random.shuffle(surface_list) #Shuffle list\n",
    "surface = np.reshape(surface_list, (dim_x, dim_y, dim_z)) #Reshape list to the "
   ]
  },
  {
   "cell_type": "code",
   "execution_count": 4,
   "id": "12c59eb3",
   "metadata": {},
   "outputs": [
    {
     "data": {
      "text/plain": [
       "(100, 100, 3)"
      ]
     },
     "execution_count": 4,
     "metadata": {},
     "output_type": "execute_result"
    }
   ],
   "source": [
    "surface.shape"
   ]
  },
  {
   "cell_type": "markdown",
   "id": "fd20a458",
   "metadata": {},
   "source": [
    "### Extract relevant neighbours from a site"
   ]
  },
  {
   "cell_type": "markdown",
   "id": "f121a0e8",
   "metadata": {},
   "source": [
    "#### On top"
   ]
  },
  {
   "cell_type": "code",
   "execution_count": 5,
   "id": "eeefc3bf",
   "metadata": {},
   "outputs": [],
   "source": [
    "# For each top position find the relevant positions and save in the sites_vector\n",
    "site_x = 1\n",
    "site_y = 1"
   ]
  },
  {
   "cell_type": "code",
   "execution_count": 6,
   "id": "d023c05e",
   "metadata": {},
   "outputs": [],
   "source": [
    "# Find the \"site vector\" for a specific site, according to the Jack article\n",
    "# Perhaps at one point I'll add the actual metal as the first input\n",
    "\n",
    "def on_top_site_vector(surface, site_x, site_y):\n",
    "    \n",
    "    #sites_vector = [0 for n in range(15)] Maybe just smash top6, mid3 and bot3 together\n",
    "\n",
    "    top6 = [surface[site_x % 100, (site_y-1) % 100, 0], surface[site_x % 100, (site_y+1) % 100, 0], surface[(site_x-1) % 100, site_y % 100, 0], surface[(site_x+1) % 100, site_y % 100, 0], surface[(site_x-1) % 100, (site_y+1) % 100, 0], surface[(site_x+1) % 100, (site_y-1) % 100, 0]]\n",
    "    top6_count = [top6.count(metals[n]) for n in range(len(metals))]\n",
    "    \n",
    "    mid3 = [surface[(site_x-1) % 100, (site_y-1) % 100,1], surface[site_x % 100, (site_y-1) % 100,1], surface[(site_x-1) % 100, site_y % 100,1]]\n",
    "    mid3_count = [mid3.count(metals[n]) for n in range(len(metals))]\n",
    "    \n",
    "    bot3 = [surface[(site_x-1) % 100, (site_y-1) % 100, 2], surface[(site_x-1) % 100, (site_y+1) % 100, 2], surface[(site_x+1) % 100, (site_y-1) % 100, 2]]\n",
    "    bot3_count = [bot3.count(metals[n]) for n in range(len(metals))]\n",
    "    \n",
    "    return top6_count + mid3_count + bot3_count\n",
    "\n",
    "# I need a function to take a site_vector and return an energy from the linear model\n",
    "# The model depends on the metal, I guess that is a but funky. Why not use 1 model?"
   ]
  },
  {
   "cell_type": "code",
   "execution_count": 7,
   "id": "0bf4813d",
   "metadata": {},
   "outputs": [],
   "source": [
    "# Finding the site vector for all on-top sites on the 100x100 surface (Without border)\n",
    "\n",
    "for site_x in range(100): #Looping through all on top sites\n",
    "    for site_y in range(100):\n",
    "        \n",
    "        # Create vector for on-top site\n",
    "        on_top_vec = on_top_site_vector(surface, site_x, site_y)\n",
    "        \n",
    "        # Create vector for hollow site / fcc site\n",
    "        # not done yet - how many hollow sites are there?\n",
    "        \n",
    "        #print(on_top_vec) # Prints all site_vectors\n",
    "        \n",
    "        # CALCULATE ENERGY HERE! FOR ALL REACTIONS\n",
    "        \n",
    "        # which we actually need models for. I think we only have a model for OH eller O\n",
    "        # When you get here, you need to make simple models for all three adsorbates"
   ]
  },
  {
   "cell_type": "code",
   "execution_count": 8,
   "id": "fed0c203",
   "metadata": {},
   "outputs": [
    {
     "name": "stdout",
     "output_type": "stream",
     "text": [
      "[2, 0, 0, 3, 1, 1, 2, 0, 0, 0, 0, 0, 0, 2, 1]\n"
     ]
    }
   ],
   "source": [
    "site_vec = on_top_site_vector(surface, site_x, site_y)\n",
    "print(site_vec)"
   ]
  },
  {
   "cell_type": "code",
   "execution_count": 9,
   "id": "8191ca1f",
   "metadata": {},
   "outputs": [
    {
     "name": "stdout",
     "output_type": "stream",
     "text": [
      "    Top layer  of the surface\n",
      "[['Au' 'Pt' 'Cu' 'Cu' 'Pd' 'Ag']\n",
      " ['Au' 'Pd' 'Pd' 'Au' 'Ag' 'Pd']\n",
      " ['Ag' 'Cu' 'Ag' 'Pd' 'Pd' 'Pd']\n",
      " ['Cu' 'Pd' 'Au' 'Pt' 'Pt' 'Au']\n",
      " ['Pd' 'Cu' 'Pd' 'Pt' 'Au' 'Pd']\n",
      " ['Au' 'Cu' 'Au' 'Ag' 'Pt' 'Ag']]\n",
      "Site:  Pd\n",
      "\n",
      "    Mid layer  of the surface\n",
      "[['Au' 'Pt' 'Au' 'Ag' 'Pd' 'Pd']\n",
      " ['Pd' 'Pd' 'Cu' 'Au' 'Pt' 'Pt']\n",
      " ['Au' 'Cu' 'Ag' 'Pt' 'Ag' 'Ag']\n",
      " ['Cu' 'Au' 'Pt' 'Ag' 'Ag' 'Pt']\n",
      " ['Pt' 'Ag' 'Ag' 'Au' 'Pd' 'Au']\n",
      " ['Pt' 'Ag' 'Pt' 'Pt' 'Pt' 'Ag']]\n",
      "\n",
      "    Bot layer  of the surface\n",
      "[['Pd' 'Pd' 'Pt' 'Pd' 'Pt' 'Cu']\n",
      " ['Pd' 'Au' 'Pt' 'Cu' 'Ag' 'Pd']\n",
      " ['Au' 'Au' 'Ag' 'Cu' 'Cu' 'Pt']\n",
      " ['Pt' 'Ag' 'Pt' 'Pd' 'Au' 'Cu']\n",
      " ['Pt' 'Ag' 'Cu' 'Pd' 'Au' 'Ag']\n",
      " ['Ag' 'Pt' 'Pt' 'Pt' 'Cu' 'Ag']]\n"
     ]
    }
   ],
   "source": [
    "# Inspect the actual surface to check if the function pulls the right atoms\n",
    "# Print the top layer of the surface\n",
    "print(\"    Top layer  of the surface\")\n",
    "print(surface[0:6, 0:6, 0])\n",
    "print(\"Site: \", surface[site_x, site_y, 0])\n",
    "\n",
    "print(\"\\n    Mid layer  of the surface\")\n",
    "print(surface[0:6, 0:6, 1])\n",
    "\n",
    "print(\"\\n    Bot layer  of the surface\")\n",
    "print(surface[0:6, 0:6, 2])\n"
   ]
  },
  {
   "cell_type": "markdown",
   "id": "c2798f89",
   "metadata": {},
   "source": [
    "#### Hollow sites"
   ]
  },
  {
   "cell_type": "code",
   "execution_count": 14,
   "id": "edca16d3",
   "metadata": {},
   "outputs": [],
   "source": [
    "three_metals_combinations = [] #List of possible combinations of the three\n",
    "# Der skal være 35, ikke 125\n",
    "\n",
    "for a in metals:\n",
    "    for b in metals:\n",
    "        for c in metals:\n",
    "            three_metals_combinations.append(''.join(sorted([a, b, c])))\n",
    "            \n",
    "# Remove duplicates\n",
    "three_metals_combinations = list(dict.fromkeys(three_metals_combinations))\n",
    "\n",
    "# Let's encode it in a better way later"
   ]
  },
  {
   "cell_type": "code",
   "execution_count": 26,
   "id": "6739335f",
   "metadata": {
    "scrolled": true
   },
   "outputs": [],
   "source": [
    "# Find the \"site vector\" for a specific site, according to the Jack article\n",
    "\n",
    "def hollow_site_vector(surface, site_x, site_y):\n",
    "    # First encode the 3 neighbours\n",
    "    blues = [surface[(site_x+1) % 100, site_y, 0], surface[site_x, (site_y+1) % 100, 0], surface[(site_x+1) % 100, (site_y+1) % 100, 0]]\n",
    "    blues = \"\".join(sorted(blues))\n",
    "    idx = three_metals_combinations.index(blues)\n",
    "    blues = 35*[0]\n",
    "    blues[idx] = 1\n",
    "    \n",
    "    # Then the next neighbours (green)\n",
    "    greens = [surface[(site_x+2) % 100, site_y, 0], surface[site_x, (site_y+2) % 100, 0], surface[site_x, site_y, 0]]\n",
    "    greens_count = [greens.count(metals[n]) for n in range(len(metals))]\n",
    "    \n",
    "    # Then the next neighbours (brown) # Kunne gøres smartede med list comprehension og to lister med +- zipped\n",
    "    browns = [surface[(site_x + a) % 100, (site_y + b) % 100, c] for a, b, c in zip([1, 2, 2, 1, -1, -1], [2, 1, -1, -1, 1, 2], [0, 0, 0, 0, 0, 0])]\n",
    "    browns_count = [browns.count(metals[n]) for n in range(len(metals))]\n",
    "    \n",
    "    # Then the three downstairs neighbours\n",
    "    yellows = [surface[(site_x + a) % 100, (site_y + b) % 100, c] for a, b, c in zip([0, 1, 0], [0, 0, 1], [1, 1, 1])]\n",
    "    yellows_count = [yellows.count(metals[n]) for n in range(len(metals))]\n",
    "    \n",
    "    # Then the purples downstairs\n",
    "    purples = [surface[(site_x + a) % 100, (site_y + b) % 100, c] for a, b, c in zip([1, -1, 1], [-1, 1, 1], [1, 1, 1])]\n",
    "    purples_count = [purples.count(metals[n]) for n in range(len(metals))]\n",
    "    \n",
    "    return blues + greens_count + browns_count + yellows_count + purples_count\n",
    "\n",
    "hollow_vec = hollow_site_vector(surface, site_x, site_y)"
   ]
  },
  {
   "cell_type": "code",
   "execution_count": null,
   "id": "a89e3fb8",
   "metadata": {},
   "outputs": [],
   "source": [
    "browns = [surface[(site_x) % 100, (site_y) % 100, 0], surface[(site_x) % 100, (site_y) % 100, 0], surface[(site_x) % 100, (site_y) % 100, 0], surface[(site_x) % 100, (site_y) % 100, 0], surface[(site_x) % 100, (site_y) % 100, 0], surface[(site_x) % 100, (site_y) % 100, 0]]"
   ]
  },
  {
   "cell_type": "markdown",
   "id": "125ed17b",
   "metadata": {},
   "source": [
    "## Train energy-prediction models"
   ]
  },
  {
   "cell_type": "code",
   "execution_count": 39,
   "id": "65f33680",
   "metadata": {},
   "outputs": [],
   "source": [
    "from ase.db import connect\n",
    "\n",
    "db_folder = \"../Database_files/\""
   ]
  },
  {
   "cell_type": "code",
   "execution_count": 40,
   "id": "dcecb7fb",
   "metadata": {},
   "outputs": [],
   "source": [
    "# Write the overall schematic here\n"
   ]
  },
  {
   "cell_type": "markdown",
   "id": "fdccef51",
   "metadata": {},
   "source": [
    "### Load data from .db files"
   ]
  },
  {
   "cell_type": "code",
   "execution_count": 50,
   "id": "ef3a9e8c",
   "metadata": {
    "collapsed": true
   },
   "outputs": [
    {
     "ename": "AssertionError",
     "evalue": "more than one row matched",
     "output_type": "error",
     "traceback": [
      "\u001b[0;31m---------------------------------------------------------------------------\u001b[0m",
      "\u001b[0;31mAssertionError\u001b[0m                            Traceback (most recent call last)",
      "Cell \u001b[0;32mIn [50], line 5\u001b[0m\n\u001b[1;32m      1\u001b[0m H_out \u001b[38;5;241m=\u001b[39m connect(db_folder \u001b[38;5;241m+\u001b[39m \u001b[38;5;124m\"\u001b[39m\u001b[38;5;124mH_out.db\u001b[39m\u001b[38;5;124m\"\u001b[39m)\n\u001b[1;32m      2\u001b[0m \u001b[38;5;66;03m#for row in H_out:\u001b[39;00m\n\u001b[1;32m      3\u001b[0m \u001b[38;5;66;03m#    row.get(\"energy\")\u001b[39;00m\n\u001b[0;32m----> 5\u001b[0m \u001b[43mH_out\u001b[49m\u001b[38;5;241;43m.\u001b[39;49m\u001b[43mget\u001b[49m\u001b[43m(\u001b[49m\u001b[38;5;124;43m'\u001b[39;49m\u001b[38;5;124;43menergy\u001b[39;49m\u001b[38;5;124;43m'\u001b[39;49m\u001b[43m)\u001b[49m\u001b[38;5;241m.\u001b[39menergy\n",
      "File \u001b[0;32m~/miniforge3/envs/PUK/lib/python3.10/site-packages/ase/db/core.py:433\u001b[0m, in \u001b[0;36mDatabase.get\u001b[0;34m(self, selection, **kwargs)\u001b[0m\n\u001b[1;32m    431\u001b[0m \u001b[38;5;28;01mif\u001b[39;00m \u001b[38;5;129;01mnot\u001b[39;00m rows:\n\u001b[1;32m    432\u001b[0m     \u001b[38;5;28;01mraise\u001b[39;00m \u001b[38;5;167;01mKeyError\u001b[39;00m(\u001b[38;5;124m'\u001b[39m\u001b[38;5;124mno match\u001b[39m\u001b[38;5;124m'\u001b[39m)\n\u001b[0;32m--> 433\u001b[0m \u001b[38;5;28;01massert\u001b[39;00m \u001b[38;5;28mlen\u001b[39m(rows) \u001b[38;5;241m==\u001b[39m \u001b[38;5;241m1\u001b[39m, \u001b[38;5;124m'\u001b[39m\u001b[38;5;124mmore than one row matched\u001b[39m\u001b[38;5;124m'\u001b[39m\n\u001b[1;32m    434\u001b[0m \u001b[38;5;28;01mreturn\u001b[39;00m rows[\u001b[38;5;241m0\u001b[39m]\n",
      "\u001b[0;31mAssertionError\u001b[0m: more than one row matched"
     ]
    }
   ],
   "source": [
    "H_out = connect(db_folder + \"H_out.db\")\n",
    "#for row in H_out:\n",
    "#    row.get(\"energy\")\n",
    "    \n",
    "H_out.get('energy').energy\n"
   ]
  },
  {
   "cell_type": "code",
   "execution_count": 53,
   "id": "a2ec6398",
   "metadata": {},
   "outputs": [
    {
     "ename": "KeyError",
     "evalue": "'no match'",
     "output_type": "error",
     "traceback": [
      "\u001b[0;31m---------------------------------------------------------------------------\u001b[0m",
      "\u001b[0;31mKeyError\u001b[0m                                  Traceback (most recent call last)",
      "Cell \u001b[0;32mIn [53], line 2\u001b[0m\n\u001b[1;32m      1\u001b[0m slabs_out_H \u001b[38;5;241m=\u001b[39m connect(\u001b[38;5;124m\"\u001b[39m\u001b[38;5;124mslabs_out_H.db\u001b[39m\u001b[38;5;124m\"\u001b[39m)\n\u001b[0;32m----> 2\u001b[0m \u001b[38;5;28;01mfor\u001b[39;00m row \u001b[38;5;129;01min\u001b[39;00m slabs_out_H:\n\u001b[1;32m      3\u001b[0m     \u001b[38;5;28mprint\u001b[39m(row)\n",
      "File \u001b[0;32m~/miniforge3/envs/PUK/lib/python3.10/site-packages/ase/db/core.py:422\u001b[0m, in \u001b[0;36mDatabase.__getitem__\u001b[0;34m(self, selection)\u001b[0m\n\u001b[1;32m    421\u001b[0m \u001b[38;5;28;01mdef\u001b[39;00m \u001b[38;5;21m__getitem__\u001b[39m(\u001b[38;5;28mself\u001b[39m, selection):\n\u001b[0;32m--> 422\u001b[0m     \u001b[38;5;28;01mreturn\u001b[39;00m \u001b[38;5;28;43mself\u001b[39;49m\u001b[38;5;241;43m.\u001b[39;49m\u001b[43mget\u001b[49m\u001b[43m(\u001b[49m\u001b[43mselection\u001b[49m\u001b[43m)\u001b[49m\n",
      "File \u001b[0;32m~/miniforge3/envs/PUK/lib/python3.10/site-packages/ase/db/core.py:432\u001b[0m, in \u001b[0;36mDatabase.get\u001b[0;34m(self, selection, **kwargs)\u001b[0m\n\u001b[1;32m    430\u001b[0m rows \u001b[38;5;241m=\u001b[39m \u001b[38;5;28mlist\u001b[39m(\u001b[38;5;28mself\u001b[39m\u001b[38;5;241m.\u001b[39mselect(selection, limit\u001b[38;5;241m=\u001b[39m\u001b[38;5;241m2\u001b[39m, \u001b[38;5;241m*\u001b[39m\u001b[38;5;241m*\u001b[39mkwargs))\n\u001b[1;32m    431\u001b[0m \u001b[38;5;28;01mif\u001b[39;00m \u001b[38;5;129;01mnot\u001b[39;00m rows:\n\u001b[0;32m--> 432\u001b[0m     \u001b[38;5;28;01mraise\u001b[39;00m \u001b[38;5;167;01mKeyError\u001b[39;00m(\u001b[38;5;124m'\u001b[39m\u001b[38;5;124mno match\u001b[39m\u001b[38;5;124m'\u001b[39m)\n\u001b[1;32m    433\u001b[0m \u001b[38;5;28;01massert\u001b[39;00m \u001b[38;5;28mlen\u001b[39m(rows) \u001b[38;5;241m==\u001b[39m \u001b[38;5;241m1\u001b[39m, \u001b[38;5;124m'\u001b[39m\u001b[38;5;124mmore than one row matched\u001b[39m\u001b[38;5;124m'\u001b[39m\n\u001b[1;32m    434\u001b[0m \u001b[38;5;28;01mreturn\u001b[39;00m rows[\u001b[38;5;241m0\u001b[39m]\n",
      "\u001b[0;31mKeyError\u001b[0m: 'no match'"
     ]
    }
   ],
   "source": [
    "slabs_out_H = connect(\"slabs_out_H.db\")\n",
    "for row in slabs_out_H:\n",
    "    print(row)"
   ]
  },
  {
   "cell_type": "code",
   "execution_count": null,
   "id": "c75cb4b2",
   "metadata": {},
   "outputs": [],
   "source": [
    "with connect(\"\")"
   ]
  }
 ],
 "metadata": {
  "kernelspec": {
   "display_name": "Python 3 (ipykernel)",
   "language": "python",
   "name": "python3"
  },
  "language_info": {
   "codemirror_mode": {
    "name": "ipython",
    "version": 3
   },
   "file_extension": ".py",
   "mimetype": "text/x-python",
   "name": "python",
   "nbconvert_exporter": "python",
   "pygments_lexer": "ipython3",
   "version": "3.10.8"
  }
 },
 "nbformat": 4,
 "nbformat_minor": 5
}
