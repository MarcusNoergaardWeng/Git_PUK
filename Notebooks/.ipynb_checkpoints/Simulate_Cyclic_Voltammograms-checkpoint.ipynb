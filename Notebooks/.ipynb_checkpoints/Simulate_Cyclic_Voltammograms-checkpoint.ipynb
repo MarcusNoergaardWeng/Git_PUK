{
 "cells": [
  {
   "cell_type": "markdown",
   "id": "e096a870",
   "metadata": {},
   "source": [
    "# Simulating Cyclic Voltammograms\n",
    "\n",
    "In this notebook, Cyclic Voltammograms are simulated by varying voltage while keeping track of adsorbates"
   ]
  },
  {
   "cell_type": "code",
   "execution_count": 24,
   "id": "c1e435a4",
   "metadata": {},
   "outputs": [],
   "source": [
    "#### Import packages\n",
    "import warnings\n",
    "warnings.filterwarnings('ignore')\n",
    "\n",
    "import sys\n",
    "import xgboost as xgb\n",
    "import numpy as np\n",
    "import pandas as pd\n",
    "import time\n",
    "import matplotlib.pyplot as plt\n",
    "from tqdm.notebook import tqdm\n",
    "import copy\n",
    "\n",
    "#### Import functions from PUK.py\n",
    "sys.path.append('../scripts')\n",
    "from PUK import on_top_site_vector, hollow_site_vector, pandas_to_DMatrix, pandas_to_DMatrix, surface_to_energies, energies_to_charge_isoterm, charge_isoterm_to_CV, rolling_average_smoothing, surface_to_CV, surface_composition, super_surface_plot, create_surface, plot_voltammograms, create_empty_adsorbates, surface_to_energies_matrices, argmin2d, find_smallest_energy, count_adsorbates\n"
   ]
  },
  {
   "cell_type": "code",
   "execution_count": 2,
   "id": "56fdd817",
   "metadata": {},
   "outputs": [],
   "source": [
    "#### Load models\n",
    "hollow_site_model = xgb.Booster({'nthread': 4})\n",
    "hollow_site_model.load_model(\"../models/\"+\"Hollow_site.model\")\n",
    "\n",
    "on_top_site_model = xgb.Booster({'nthread': 4})\n",
    "on_top_site_model.load_model(\"../models/\"+\"on_top_site.model\")"
   ]
  },
  {
   "cell_type": "markdown",
   "id": "7892e685",
   "metadata": {},
   "source": [
    "## Simulate surface"
   ]
  },
  {
   "cell_type": "code",
   "execution_count": 17,
   "id": "4e94e43e",
   "metadata": {},
   "outputs": [
    {
     "name": "stdout",
     "output_type": "stream",
     "text": [
      "{'empty': 20000}\n"
     ]
    }
   ],
   "source": [
    "#### Simulate surface (and matrices for keeping track of the adsorbates (both hollow and on-top))\n",
    "metals = ['Ag', 'Au', 'Cu', 'Pd', 'Pt']\n",
    "dim_x, dim_y = 100, 100\n",
    "surface = create_surface(metals, dim_x, dim_y, \"Even\")\n",
    "adsorbates_hollow, adsorbates_on_top = create_empty_adsorbates(dim_x, dim_y)\n",
    "\n",
    "potential = 0.5\n",
    "\n",
    "print(count_adsorbates(adsorbates_hollow, adsorbates_on_top))"
   ]
  },
  {
   "cell_type": "code",
   "execution_count": 27,
   "id": "39f57150",
   "metadata": {
    "scrolled": false
   },
   "outputs": [
    {
     "data": {
      "application/vnd.jupyter.widget-view+json": {
       "model_id": "a1ec08dc52ad4cc494fc57051817a66d",
       "version_major": 2,
       "version_minor": 0
      },
      "text/plain": [
       "  0%|          | 0/100 [00:00<?, ?it/s]"
      ]
     },
     "metadata": {},
     "output_type": "display_data"
    }
   ],
   "source": [
    "adsorbates_log = []\n",
    "sum_delta_G_log = []\n",
    "\n",
    "hysteresis_threshold = 0\n",
    "voltage_range = np.linspace(-1.5, 1.5, 100)\n",
    "for potential in tqdm(voltage_range):\n",
    "    ### Print the voltage ###\n",
    "    #print(f\"Potential: {potential:.2f} V\")\n",
    "    \n",
    "    ### Calculate all energies on the surface for all adsorbates ###\n",
    "    H_matrix, OH_matrix, O_matrix = surface_to_energies_matrices(surface, potential, on_top_site_model, hollow_site_model)\n",
    "    Energies_matrix = {\"H\": H_matrix, \"OH\": OH_matrix, \"O\": O_matrix}\n",
    "    Energies_matrix_count = copy.deepcopy(Energies_matrix)\n",
    "    ### REMOVE ADSORBATES WITH POSITIVE ENERGY ###\n",
    "    # Look through all adsorbate sites (hollow and on-top)\n",
    "    # If occupied, remove at positive energy (or above hysteresis barrier)\n",
    "    for idx_x in range(dim_x):\n",
    "        for idx_y in range(dim_y):\n",
    "            \n",
    "            ### REMOVE HOLLOW SITE ADSORBATES ###\n",
    "            hollow_adsorbate = adsorbates_hollow[idx_x, idx_y] # Find the adsorbate\n",
    "            if hollow_adsorbate != \"empty\": # If the spot is not empty\n",
    "                hollow_adsorbate_energy = Energies_matrix[hollow_adsorbate][idx_x, idx_y] #Check the energy at that spot with that adsorbate\n",
    "                # Korriger for nabo-interaktioner? Ja. Læg noget til energien baseret på antallet af naboer\n",
    "                \n",
    "                if hollow_adsorbate_energy > hysteresis_threshold: # Hysteresis could be inserted here\n",
    "                    #print(f\"Removing adsorbate {hollow_adsorbate} because the energy is {hollow_adsorbate_energy}\")\n",
    "                    adsorbates_hollow[idx_x, idx_y] = \"empty\" # The adsorbate is removed\n",
    "                    #print(f\"The hollow_adsorbate at this place is now {adsorbates_hollow[idx_x, idx_y]}\")\n",
    "            \n",
    "            ### REMOVE ON-TOP SITE ADSORBATES ###\n",
    "            on_top_adsorbate = adsorbates_on_top[idx_x, idx_y] # Find the adsorbate\n",
    "            if on_top_adsorbate != \"empty\": # If the spot is not empty\n",
    "                on_top_adsorbate_energy = Energies_matrix[on_top_adsorbate][idx_x, idx_y] #Check the energy at that spot with that adsorbate\n",
    "                # Korriger for nabo-interaktioner?\n",
    "                \n",
    "                if on_top_adsorbate_energy > hysteresis_threshold: # Hysteresis could be inserted here\n",
    "                    adsorbates_on_top[idx_x, idx_y] = \"empty\" # The adsorbate is removed\n",
    "    \n",
    "    \n",
    "    # Kig igennem energierne ved de frie sites, læg nabo-interaktion-energier til, hvis energien stadig er \n",
    "    # negativ, så sæt den på. Ellers, så erstat energien med et \"no\", så man ikke finder samme energi igen\n",
    "    \n",
    "    # Find smallest energy in all three matrices\n",
    "    smallest_energy = -1 #Just initially to get the while loop going\n",
    "    # The absolute maximum number of smallest energies is dim_x * dim_y * 3. One energy is checked, if under 0 AND the spot is free -> attach the adsorbate, then set the energy to 100. If the smallest energy is not under 0 -> Exit the loop  \n",
    "    #for iteration in range(dim_x*dim_y*3): #Maksimalt antal energier der skal tjekkes hvis alle er negative. Hvis man overskrider den her er der noget galt\n",
    "    counter = 0\n",
    "    while smallest_energy < 0:\n",
    "        counter += 1\n",
    "        if counter > dim_x*dim_y*3:\n",
    "            raise ValueError(\"Exceeded the maxmimum amount of negative energies. Some energies keep getting found again and again. Make sure all checked energies are set to 100.\")\n",
    "        idx_x, idx_y, smallest_energy, adsorbate = find_smallest_energy(Energies_matrix)\n",
    "        \n",
    "        #Check if the position is occupied:\n",
    "        if ((adsorbate == \"H\" or adsorbate == \"O\") and adsorbates_hollow[idx_x, idx_y] != \"empty\") or (adsorbate == \"OH\" and adsorbates_on_top[idx_x, idx_y] != \"empty\"):\n",
    "            # The position was occupied. Remove the energies at this position\n",
    "            if adsorbate == \"H\" or adsorbate == \"O\":\n",
    "                Energies_matrix[\"H\"][idx_x, idx_y] = 100\n",
    "                Energies_matrix[\"O\"][idx_x, idx_y] = 100\n",
    "            \n",
    "            if adsorbate == \"OH\":\n",
    "                Energies_matrix[\"OH\"][idx_x, idx_y] = 100\n",
    "            continue # Ahh, hvis pladsen der hører til den laveste energi er optaget, så sæt energien på denne plads FOR SAMME ADSORBAT til 100. Så skal man ikke tjekke senere. Ellers kunne man også bare tjekke om pladsen er ledig for hver energi. Det burde være simplere\n",
    "        \n",
    "        # Add neighbor-interaction\n",
    "        \n",
    "        # Remove that energy and put \"checked\" instead no matter what happened before\n",
    "        if smallest_energy < 0: # ADSORPTION\n",
    "            if adsorbate == \"H\" or adsorbate == \"O\":\n",
    "                # Put the adsorbate on the adsorbates matrix\n",
    "                adsorbates_hollow[idx_x, idx_y] = adsorbate\n",
    "                \n",
    "                # Remove the energies at this position\n",
    "                Energies_matrix[\"H\"][idx_x, idx_y] = 100\n",
    "                Energies_matrix[\"O\"][idx_x, idx_y] = 100\n",
    "            \n",
    "            if adsorbate == \"OH\":\n",
    "                adsorbates_on_top[idx_x, idx_y] = adsorbate\n",
    "                # Remove the energies at this position\n",
    "                Energies_matrix[\"OH\"][idx_x, idx_y] = 100\n",
    "    \n",
    "    \n",
    "    ### SUM ADSORBATE ENERGIES ### \n",
    "    \n",
    "    # Loop through all sites, add the energy of the adsorbate if one is found\n",
    "    sum_delta_G = 0\n",
    "    for idx_x in range(dim_x):\n",
    "        for idx_y in range(dim_y):\n",
    "            # HOLLOW SITES\n",
    "            if adsorbates_hollow[idx_x, idx_y] == \"H\":\n",
    "                sum_delta_G += Energies_matrix_count[\"H\"][idx_x, idx_y]\n",
    "            if adsorbates_hollow[idx_x, idx_y] == \"O\":\n",
    "                sum_delta_G += Energies_matrix_count[\"O\"][idx_x, idx_y]\n",
    "            if adsorbates_on_top[idx_x, idx_y] == \"OH\":\n",
    "                sum_delta_G += Energies_matrix_count[\"OH\"][idx_x, idx_y]\n",
    "    sum_delta_G_log.append(sum_delta_G / (dim_x*dim_y))\n",
    "    \n",
    "    #print(count_adsorbates(adsorbates_hollow, adsorbates_on_top))\n",
    "    adsorbates_log.append(count_adsorbates(adsorbates_hollow, adsorbates_on_top))\n"
   ]
  },
  {
   "cell_type": "code",
   "execution_count": 28,
   "id": "f76552d0",
   "metadata": {},
   "outputs": [
    {
     "data": {
      "text/plain": [
       "[<matplotlib.lines.Line2D at 0x177ef9f90>]"
      ]
     },
     "execution_count": 28,
     "metadata": {},
     "output_type": "execute_result"
    },
    {
     "data": {
      "image/png": "[encoded data removed]",
      "text/plain": [
       "<Figure size 640x480 with 1 Axes>"
      ]
     },
     "metadata": {},
     "output_type": "display_data"
    }
   ],
   "source": [
    "plt.plot(voltage_range, sum_delta_G_log)"
   ]
  },
  {
   "cell_type": "code",
   "execution_count": 23,
   "id": "fe43333c",
   "metadata": {},
   "outputs": [
    {
     "data": {
      "text/plain": [
       "array({'H': array([[100., 100., 100., ..., 100., 100., 100.],\n",
       "       [100., 100., 100., ..., 100., 100., 100.],\n",
       "       [100., 100., 100., ..., 100., 100., 100.],\n",
       "       ...,\n",
       "       [100., 100., 100., ..., 100., 100., 100.],\n",
       "       [100., 100., 100., ..., 100., 100., 100.],\n",
       "       [100., 100., 100., ..., 100., 100., 100.]], dtype=float32), 'OH': array([[2.7341967, 2.4568617, 3.3706656, ..., 2.551589 , 2.3520257,\n",
       "        2.4732623],\n",
       "       [2.752244 , 3.3613741, 2.251109 , ..., 2.4978726, 2.5398304,\n",
       "        2.630406 ],\n",
       "       [2.3736331, 2.35108  , 1.9843309, ..., 2.4515529, 2.4474669,\n",
       "        3.3766017],\n",
       "       ...,\n",
       "       [2.383826 , 3.3554597, 3.4170475, ..., 3.2060552, 3.3355365,\n",
       "        2.472228 ],\n",
       "       [2.670483 , 2.3910534, 2.5778987, ..., 3.211207 , 3.3447037,\n",
       "        2.3693256],\n",
       "       [2.5269914, 3.36622  , 2.3644848, ..., 3.2835093, 2.411534 ,\n",
       "        2.5120764]], dtype=float32), 'O': array([[100., 100., 100., ..., 100., 100., 100.],\n",
       "       [100., 100., 100., ..., 100., 100., 100.],\n",
       "       [100., 100., 100., ..., 100., 100., 100.],\n",
       "       ...,\n",
       "       [100., 100., 100., ..., 100., 100., 100.],\n",
       "       [100., 100., 100., ..., 100., 100., 100.],\n",
       "       [100., 100., 100., ..., 100., 100., 100.]], dtype=float32)},\n",
       "      dtype=object)"
      ]
     },
     "execution_count": 23,
     "metadata": {},
     "output_type": "execute_result"
    }
   ],
   "source": [
    "Energies_matrix_count"
   ]
  },
  {
   "cell_type": "code",
   "execution_count": 7,
   "id": "46cd874d",
   "metadata": {},
   "outputs": [
    {
     "data": {
      "text/plain": [
       "array([[0.6417573 , 0.8725116 , 1.0820894 , ..., 1.0193647 , 0.7602722 ,\n",
       "        0.9183421 ],\n",
       "       [0.7054071 , 0.7618944 , 1.7331743 , ..., 1.0103403 , 0.9658249 ,\n",
       "        0.7159406 ],\n",
       "       [0.6659616 , 0.79339314, 0.6965403 , ..., 0.9291679 , 0.43432742,\n",
       "        1.1455348 ],\n",
       "       ...,\n",
       "       [0.9371018 , 1.0279839 , 1.6783993 , ..., 1.0011846 , 1.0961154 ,\n",
       "        1.7718327 ],\n",
       "       [0.910489  , 0.97552747, 1.8170578 , ..., 1.2413918 , 0.9936622 ,\n",
       "        0.98952574],\n",
       "       [1.0134642 , 0.99344236, 1.7346421 , ..., 1.7284616 , 0.8129282 ,\n",
       "        1.26743   ]], dtype=float32)"
      ]
     },
     "execution_count": 7,
     "metadata": {},
     "output_type": "execute_result"
    }
   ],
   "source": [
    "Energies_matrix[\"OH\"]"
   ]
  },
  {
   "cell_type": "code",
   "execution_count": 6,
   "id": "91c532e5",
   "metadata": {},
   "outputs": [
    {
     "data": {
      "text/plain": [
       "(57, 42)"
      ]
     },
     "execution_count": 6,
     "metadata": {},
     "output_type": "execute_result"
    }
   ],
   "source": [
    "argmin2d(Energies_matrix[\"OH\"])"
   ]
  },
  {
   "cell_type": "code",
   "execution_count": 7,
   "id": "e7386db8",
   "metadata": {},
   "outputs": [
    {
     "data": {
      "text/plain": [
       "-0.0077173263"
      ]
     },
     "execution_count": 7,
     "metadata": {},
     "output_type": "execute_result"
    }
   ],
   "source": [
    "Energies_matrix[\"OH\"][57, 42]"
   ]
  },
  {
   "cell_type": "code",
   "execution_count": 13,
   "id": "4b707461",
   "metadata": {},
   "outputs": [],
   "source": [
    "if ((adsorbate == \"H\" or adsorbate == \"O\") and adsorbates_hollow[idx_x, idx_y] != \"empty\") or (adsorbate == \"OH\" and adsorbates_on_top[idx_x, idx_y] != \"empty\"):\n",
    "    print(\"yep\")"
   ]
  },
  {
   "cell_type": "code",
   "execution_count": 12,
   "id": "d7cc3660",
   "metadata": {},
   "outputs": [
    {
     "data": {
      "text/plain": [
       "'empty'"
      ]
     },
     "execution_count": 12,
     "metadata": {},
     "output_type": "execute_result"
    }
   ],
   "source": [
    "adsorbates_hollow[idx_x, idx_y]"
   ]
  },
  {
   "cell_type": "code",
   "execution_count": 8,
   "id": "7b34f9d6",
   "metadata": {},
   "outputs": [
    {
     "data": {
      "text/plain": [
       "'OH'"
      ]
     },
     "execution_count": 8,
     "metadata": {},
     "output_type": "execute_result"
    }
   ],
   "source": [
    "adsorbate"
   ]
  },
  {
   "cell_type": "code",
   "execution_count": 5,
   "id": "65b7b09a",
   "metadata": {},
   "outputs": [
    {
     "data": {
      "text/plain": [
       "array([0.        , 0.11111111, 0.22222222, 0.33333333, 0.44444444,\n",
       "       0.55555556, 0.66666667, 0.77777778, 0.88888889, 1.        ])"
      ]
     },
     "execution_count": 5,
     "metadata": {},
     "output_type": "execute_result"
    }
   ],
   "source": [
    "np.linspace(0, 1, 10)"
   ]
  },
  {
   "cell_type": "code",
   "execution_count": null,
   "id": "01952ffc",
   "metadata": {},
   "outputs": [],
   "source": []
  },
  {
   "cell_type": "code",
   "execution_count": 6,
   "id": "b20f8534",
   "metadata": {},
   "outputs": [
    {
     "data": {
      "text/plain": [
       "(200, 100)"
      ]
     },
     "execution_count": 6,
     "metadata": {},
     "output_type": "execute_result"
    }
   ],
   "source": [
    "np.shape(np.concatenate((adsorbates_hollow, adsorbates_on_top)))"
   ]
  },
  {
   "cell_type": "code",
   "execution_count": 7,
   "id": "230c8aa3",
   "metadata": {},
   "outputs": [
    {
     "ename": "ValueError",
     "evalue": "could not convert string to float: 'checked'",
     "output_type": "error",
     "traceback": [
      "\u001b[0;31m---------------------------------------------------------------------------\u001b[0m",
      "\u001b[0;31mValueError\u001b[0m                                Traceback (most recent call last)",
      "Cell \u001b[0;32mIn [7], line 2\u001b[0m\n\u001b[1;32m      1\u001b[0m \u001b[38;5;66;03m# Jeg gad godt vide, hvorfor man ikke kan sætte strings ind her\u001b[39;00m\n\u001b[0;32m----> 2\u001b[0m Energies_matrix[\u001b[38;5;124m\"\u001b[39m\u001b[38;5;124mH\u001b[39m\u001b[38;5;124m\"\u001b[39m][\u001b[38;5;241m96\u001b[39m, \u001b[38;5;241m21\u001b[39m] \u001b[38;5;241m=\u001b[39m \u001b[38;5;124m\"\u001b[39m\u001b[38;5;124mchecked\u001b[39m\u001b[38;5;124m\"\u001b[39m\n",
      "\u001b[0;31mValueError\u001b[0m: could not convert string to float: 'checked'"
     ]
    }
   ],
   "source": [
    "# Jeg gad godt vide, hvorfor man ikke kan sætte strings ind her\n",
    "Energies_matrix[\"H\"][96, 21] = \"checked\""
   ]
  },
  {
   "cell_type": "code",
   "execution_count": null,
   "id": "94f3e45c",
   "metadata": {},
   "outputs": [],
   "source": [
    "potential = 0.5\n",
    "H_matrix, OH_matrix, O_matrix = surface_to_energies_matrices(surface, potential, on_top_site_model, hollow_site_model)\n",
    "Energies_matrix = {\"H\": H_matrix, \"OH\": OH_matrix, \"O\": O_matrix}\n",
    "\n",
    "find_smallest_energy(Energies_matrix)"
   ]
  },
  {
   "cell_type": "code",
   "execution_count": null,
   "id": "073cb48f",
   "metadata": {},
   "outputs": [],
   "source": [
    "# Step 1: Choose a potential\n",
    "initial_potential = 0.5\n",
    "\n",
    "# Step 2: Use the energy-prediction models on all adsorbates on all sites\n",
    "# It would be nice to get a matrix with the energies back\n",
    "\n",
    "# Der skal nok i virkeligheden kigges på hvert site, se hvad der sidder:\n",
    "## hvis der sidder ingenting:\n",
    "### Tjek energien for alle tre, sæt den på, som har den laveste energi\n",
    "\n",
    "### Go through list of numbers in random order - så behøver man kun én gennemgang - nårh nej, men den skal\n",
    "### nok sætte den mindste energi på først. eller hvad.\n",
    "\n",
    "\n",
    "### Man behøver kun regne energier i matrixen ud én gang, efter det er det bare at tjekke naboer! Det gør\n",
    "### Det en del nemmere!\n",
    "\n",
    "### Ahh bare sæt den nederste energi på først og så lige tjek naboer først"
   ]
  }
 ],
 "metadata": {
  "kernelspec": {
   "display_name": "Python 3 (ipykernel)",
   "language": "python",
   "name": "python3"
  },
  "language_info": {
   "codemirror_mode": {
    "name": "ipython",
    "version": 3
   },
   "file_extension": ".py",
   "mimetype": "text/x-python",
   "name": "python",
   "nbconvert_exporter": "python",
   "pygments_lexer": "ipython3",
   "version": "3.10.8"
  }
 },
 "nbformat": 4,
 "nbformat_minor": 5
}
