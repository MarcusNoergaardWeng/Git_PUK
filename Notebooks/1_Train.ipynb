{
 "cells": [
  {
   "cell_type": "markdown",
   "id": "4695f870",
   "metadata": {},
   "source": [
    "## Train linear regressor\n",
    "\n",
    "This notebook trains a linear regressor model that predicts the binding energy of an adsorbate based on the nearby atoms. The training data is DFT simulations of 500 slabs with adsorbates. The model is then saved and can be used in other notebooks for prediction of site energies."
   ]
  },
  {
   "cell_type": "markdown",
   "id": "c803d761",
   "metadata": {},
   "source": [
    "#### Import packages"
   ]
  },
  {
   "cell_type": "code",
   "execution_count": 1,
   "id": "d0713f67",
   "metadata": {},
   "outputs": [],
   "source": [
    "import sys\n",
    "sys.path.append('../scripts')\n",
    "from common_settings import n_sites_OH, n_sites_O, n_metals, sites_OH, sites_O, metals\n",
    "import numpy as np\n",
    "from sklearn.linear_model import LinearRegression\n",
    "from copy import deepcopy\n",
    "import itertools as it"
   ]
  },
  {
   "cell_type": "code",
   "execution_count": 2,
   "id": "15697737",
   "metadata": {},
   "outputs": [],
   "source": [
    "path_DFT = '../DFT_data'"
   ]
  },
  {
   "cell_type": "code",
   "execution_count": 3,
   "id": "87d56414",
   "metadata": {},
   "outputs": [],
   "source": [
    "# Load DFT adsorption energies and features for *OH\n",
    "data = np.loadtxt(f'{path_DFT}/OH_features.csv', delimiter=',', skiprows=1)\n",
    "features_OH = data[:, :-3].astype(int)\n",
    "Gs_OH = data[:, -3]\n",
    "\n",
    "# Load DFT adsorption energies and features for O*\n",
    "data = np.loadtxt(f'{path_DFT}/O_features.csv', delimiter=',', skiprows=1)\n",
    "features_O = data[:, :-3].astype(int)\n",
    "Gs_O = data[:, -3]\n",
    "\n",
    "# Train linear regressor on the features and adsorption energies\n",
    "zone_labels = ['1a', '2a', '3b']\n",
    "n_atoms_zones = [6, 3, 3]\n",
    "for ontop_idx in range(n_metals):\n",
    "\t\n",
    "\t# Get indices of the current adsorption site\n",
    "\tids = np.nonzero(features_OH[:, ontop_idx] == 1)[0]\n",
    "\t\n",
    "\t# Train linear regressor on this OH on-top site\n",
    "\treg = LinearRegression(fit_intercept=True).fit(features_OH[ids, 5:], Gs_OH[ids])\n",
    "\t\n",
    "\t# Get fitted slopes\n",
    "\tslopes = reg.coef_\n",
    "\tintercept = reg.intercept_\n",
    "\tslopes_init = deepcopy(slopes)\n",
    "\t\n",
    "\tfor zone_idx, n_atoms in enumerate(n_atoms_zones):\n",
    "\t\t\n",
    "\t\t# Set the pure metal slope to zero\n",
    "\t\tref_val = slopes[zone_idx*n_metals + ontop_idx]\n",
    "\t\tslopes[zone_idx*n_metals : (zone_idx+1)*n_metals] -= ref_val\n",
    "\t\t\n",
    "\t\t# Update intercept parameter to make up for the change in slopes\n",
    "\t\tintercept += ref_val*n_atoms\n",
    "\n",
    "\t# Write parameters to file\n",
    "\twith open(f'OH_{sites_OH[ontop_idx]}.csv', 'w') as file_:\n",
    "\t\t\n",
    "\t\t# Write intercept to file\n",
    "\t\tfile_.write(f'intercept,{intercept:>9.6f}')\n",
    "\t\t\n",
    "\t\t# Write slopes to file\n",
    "\t\tfor (label, metal), slope in zip(it.product(zone_labels, metals), slopes):\n",
    "\t\t\tfile_.write(f'\\n{label}{metal},{slope:>9.6f}')\n",
    "\n",
    "# Train linear O* regressor\t\n",
    "reg_O = LinearRegression(fit_intercept=False).fit(features_O, Gs_O)\n",
    "\n",
    "# Set initial slopes and intercept\n",
    "slopes = reg_O.coef_\n",
    "intercept = 0.\n",
    "\n",
    "# Get the index of Pt, whose parameters will be set to zero\n",
    "ref_idx = metals.index('Pt')\n",
    "\n",
    "zone_labels = ['1a', '1b', '2a', '2b']\n",
    "n_atoms_zones = [3, 6, 3, 3]\n",
    "for zone_idx, n_atoms in enumerate(n_atoms_zones):\n",
    "\t\n",
    "\t# Get value of reference metal parameter in the current zone\n",
    "\tstart_idx = n_sites_O + zone_idx*n_metals\n",
    "\tref_val = slopes[start_idx + ref_idx]\n",
    "\t\n",
    "\t# Update slopes and intercept\n",
    "\tstop_idx = n_sites_O + (zone_idx+1)*n_metals\n",
    "\tslopes[start_idx : stop_idx] -= ref_val\n",
    "\tintercept += ref_val*n_atoms\n",
    "\n",
    "# Subtract the intercept from the adsorption site ensemble parameters,\n",
    "# since they are one hot encoded only one will be active at a time\n",
    "slopes[:n_sites_O] += intercept\n",
    "\n",
    "# Write parameters to file\n",
    "with open(f'O.csv', 'w') as file_:\n",
    "\t\n",
    "\t# Write ensemble energies to file\n",
    "\tfor site, param in zip(sites_O, slopes):\n",
    "\t\tfile_.write(f'{site},{param:>9.6f}\\n')\n",
    "\t\n",
    "\t# Write slopes to file\n",
    "\tfor (label, metal), slope in zip(it.product(zone_labels, metals), slopes[n_sites_O:]):\n",
    "\t\tfile_.write(f'{label}{metal},{slope:>9.6f}\\n')"
   ]
  },
  {
   "cell_type": "code",
   "execution_count": null,
   "id": "ea4188d1",
   "metadata": {},
   "outputs": [],
   "source": []
  }
 ],
 "metadata": {
  "kernelspec": {
   "display_name": "Python 3 (ipykernel)",
   "language": "python",
   "name": "python3"
  },
  "language_info": {
   "codemirror_mode": {
    "name": "ipython",
    "version": 3
   },
   "file_extension": ".py",
   "mimetype": "text/x-python",
   "name": "python",
   "nbconvert_exporter": "python",
   "pygments_lexer": "ipython3",
   "version": "3.10.8"
  }
 },
 "nbformat": 4,
 "nbformat_minor": 5
}
