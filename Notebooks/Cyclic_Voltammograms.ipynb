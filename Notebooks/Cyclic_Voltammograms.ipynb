{
 "cells": [
  {
   "cell_type": "markdown",
   "id": "8c3af0b5",
   "metadata": {},
   "source": [
    "# Cyclic Voltammograms"
   ]
  },
  {
   "cell_type": "markdown",
   "id": "d03f4def",
   "metadata": {},
   "source": [
    "### Imports"
   ]
  },
  {
   "cell_type": "code",
   "execution_count": 1,
   "id": "7e19de61",
   "metadata": {},
   "outputs": [],
   "source": [
    "import ase\n",
    "from ase.db import connect\n",
    "import numpy as np"
   ]
  },
  {
   "cell_type": "markdown",
   "id": "7a145ace",
   "metadata": {},
   "source": [
    "### Create surface\n",
    "\n",
    "The five metals used are (in alphabetical order): Ag, Au, Cu, Pd, Pt. A 100x100 surface in three layers with an even metal-distribution is created in a simple NumPy array. "
   ]
  },
  {
   "cell_type": "code",
   "execution_count": 2,
   "id": "91ecb879",
   "metadata": {},
   "outputs": [],
   "source": [
    "metals = ['Ag', 'Au', 'Cu', 'Pd', 'Pt']"
   ]
  },
  {
   "cell_type": "code",
   "execution_count": 17,
   "id": "284adb99",
   "metadata": {},
   "outputs": [],
   "source": [
    "# Make a 100x100x3 surface with an even distribution of the five metals\n",
    "\n",
    "dim_x, dim_y, dim_z = 100, 100, 3 #Specify dimensions\n",
    "\n",
    "surface_list = np.array([int(dim_x*dim_y*dim_z/len(metals))*[metals[metal_number]] for metal_number in range(len(metals))]).flatten() #Jack had a way shorter way of doing this, but I think it was random drawing instead of ensuring a perfectly even split\n",
    "np.random.shuffle(surface_list) #Shuffle list\n",
    "surface = np.reshape(surface_list, (dim_x, dim_y, dim_z)) #Reshape list to the "
   ]
  },
  {
   "cell_type": "code",
   "execution_count": 12,
   "id": "12c59eb3",
   "metadata": {},
   "outputs": [
    {
     "data": {
      "text/plain": [
       "(100, 100, 3)"
      ]
     },
     "execution_count": 12,
     "metadata": {},
     "output_type": "execute_result"
    }
   ],
   "source": [
    "surface.shape"
   ]
  },
  {
   "cell_type": "markdown",
   "id": "fd20a458",
   "metadata": {},
   "source": [
    "### Extract relevant neighbours from a site"
   ]
  },
  {
   "cell_type": "markdown",
   "id": "f121a0e8",
   "metadata": {},
   "source": [
    "#### On top"
   ]
  },
  {
   "cell_type": "code",
   "execution_count": 32,
   "id": "eeefc3bf",
   "metadata": {},
   "outputs": [],
   "source": [
    "# For each top position find the relevant positions and save in the sites_vector\n",
    "site_x = 1\n",
    "site_y = 1"
   ]
  },
  {
   "cell_type": "code",
   "execution_count": 21,
   "id": "d023c05e",
   "metadata": {},
   "outputs": [],
   "source": [
    "# Find the \"site vector\" for a specific site, according to the Jack article\n",
    "# Perhaps at one point I'll add the actual metal as the first input\n",
    "\n",
    "def on_top_site_vector(surface, site_x, site_y):\n",
    "    \n",
    "    #sites_vector = [0 for n in range(15)] Maybe just smash top6, mid3 and bot3 together\n",
    "\n",
    "    top6 = [surface[site_x % 100, (site_y-1) % 100, 0], surface[site_x % 100, (site_y+1) % 100, 0], surface[(site_x-1) % 100, site_y % 100, 0], surface[(site_x+1) % 100, site_y % 100, 0], surface[(site_x-1) % 100, (site_y+1) % 100, 0], surface[(site_x+1) % 100, (site_y-1) % 100, 0]]\n",
    "    top6_count = [top6.count(metals[n]) for n in range(len(metals))]\n",
    "    \n",
    "    mid3 = [surface[(site_x-1) % 100, (site_y-1) % 100,1], surface[site_x % 100, (site_y-1) % 100,1], surface[(site_x-1) % 100, site_y % 100,1]]\n",
    "    mid3_count = [mid3.count(metals[n]) for n in range(len(metals))]\n",
    "    \n",
    "    bot3 = [surface[(site_x-1) % 100, (site_y-1) % 100, 2], surface[(site_x-1) % 100, (site_y+1) % 100, 2], surface[(site_x+1) % 100, (site_y-1) % 100, 2]]\n",
    "    bot3_count = [bot3.count(metals[n]) for n in range(len(metals))]\n",
    "    \n",
    "    return top6_count + mid3_count + bot3_count\n",
    "\n",
    "# I need a function to take a site_vector and return an energy from the linear model\n",
    "# The model depends on the metal, I guess that is a but funky. Why not use 1 model?"
   ]
  },
  {
   "cell_type": "code",
   "execution_count": 24,
   "id": "0bf4813d",
   "metadata": {},
   "outputs": [],
   "source": [
    "# Finding the site vector for all on-top sites on the 100x100 surface (Without border)\n",
    "\n",
    "for site_x in range(100): #Looping through all on top sites\n",
    "    for site_y in range(100):\n",
    "        \n",
    "        # Create vector for on-top site\n",
    "        on_top_vec = on_top_site_vector(surface, site_x, site_y)\n",
    "        \n",
    "        # Create vector for hollow site / fcc site\n",
    "        # not done yet - how many hollow sites are there?\n",
    "        \n",
    "        #print(on_top_vec) # Prints all site_vectors\n",
    "        \n",
    "        # CALCULATE ENERGY HERE! FOR ALL REACTIONS\n",
    "        \n",
    "        # which we actually need models for. I think we only have a model for OH eller O\n",
    "        # When you get here, you need to make simple models for all three adsorbates"
   ]
  },
  {
   "cell_type": "code",
   "execution_count": 33,
   "id": "fed0c203",
   "metadata": {},
   "outputs": [
    {
     "name": "stdout",
     "output_type": "stream",
     "text": [
      "[2, 0, 1, 1, 2, 0, 1, 0, 2, 0, 1, 0, 1, 1, 0]\n"
     ]
    }
   ],
   "source": [
    "site_vec = on_top_site_vector(surface, site_x, site_y)\n",
    "print(site_vec)"
   ]
  },
  {
   "cell_type": "code",
   "execution_count": 34,
   "id": "8191ca1f",
   "metadata": {},
   "outputs": [
    {
     "name": "stdout",
     "output_type": "stream",
     "text": [
      "    Top layer  of the surface\n",
      "[['Au' 'Pt' 'Cu' 'Pt' 'Au' 'Cu']\n",
      " ['Pt' 'Pd' 'Ag' 'Cu' 'Au' 'Au']\n",
      " ['Ag' 'Pd' 'Pd' 'Cu' 'Pt' 'Pd']\n",
      " ['Cu' 'Pd' 'Pd' 'Ag' 'Pt' 'Pt']\n",
      " ['Pd' 'Pt' 'Pd' 'Pt' 'Pt' 'Pd']\n",
      " ['Au' 'Cu' 'Pt' 'Au' 'Pt' 'Pt']]\n",
      "Site:  Pd\n",
      "\n",
      "    Mid layer  of the surface\n",
      "[['Au' 'Pd' 'Ag' 'Pt' 'Au' 'Cu']\n",
      " ['Pd' 'Cu' 'Pd' 'Au' 'Pt' 'Ag']\n",
      " ['Au' 'Cu' 'Au' 'Ag' 'Ag' 'Pt']\n",
      " ['Pt' 'Pd' 'Ag' 'Au' 'Cu' 'Cu']\n",
      " ['Pd' 'Pd' 'Pd' 'Pd' 'Cu' 'Pd']\n",
      " ['Cu' 'Ag' 'Au' 'Cu' 'Pd' 'Ag']]\n",
      "\n",
      "    Bot layer  of the surface\n",
      "[['Ag' 'Pd' 'Cu' 'Pt' 'Cu' 'Pd']\n",
      " ['Pd' 'Pd' 'Ag' 'Au' 'Cu' 'Pt']\n",
      " ['Pd' 'Ag' 'Pt' 'Pt' 'Ag' 'Ag']\n",
      " ['Pd' 'Cu' 'Cu' 'Cu' 'Ag' 'Pt']\n",
      " ['Au' 'Pt' 'Pt' 'Au' 'Au' 'Au']\n",
      " ['Ag' 'Pt' 'Au' 'Pt' 'Pd' 'Cu']]\n"
     ]
    }
   ],
   "source": [
    "# Inspect the actual surface to check if the function pulls the right atoms\n",
    "# Print the top layer of the surface\n",
    "print(\"    Top layer  of the surface\")\n",
    "print(surface[0:6, 0:6, 0])\n",
    "print(\"Site: \", surface[site_x, site_y, 0])\n",
    "\n",
    "print(\"\\n    Mid layer  of the surface\")\n",
    "print(surface[0:6, 0:6, 1])\n",
    "\n",
    "print(\"\\n    Bot layer  of the surface\")\n",
    "print(surface[0:6, 0:6, 2])\n"
   ]
  },
  {
   "cell_type": "markdown",
   "id": "c2798f89",
   "metadata": {},
   "source": [
    "#### Hollow sites"
   ]
  },
  {
   "cell_type": "code",
   "execution_count": 35,
   "id": "edca16d3",
   "metadata": {},
   "outputs": [],
   "source": [
    "three_metals_combinations = [] #List of possible combinations of the three\n",
    "# Der skal være 35, ikke 125\n",
    "\n",
    "for a in metals:\n",
    "    for b in metals:\n",
    "        for c in metals:\n",
    "            three_metals_combinations.append(''.join(sorted([a, b, c])))\n",
    "            \n",
    "# Remove duplicates\n",
    "three_metals_combinations = list(dict.fromkeys(three_metals_combinations))\n",
    "\n",
    "# Let's encode it in a better way later"
   ]
  },
  {
   "cell_type": "code",
   "execution_count": 36,
   "id": "6739335f",
   "metadata": {},
   "outputs": [
    {
     "name": "stdout",
     "output_type": "stream",
     "text": [
      "[0. 0. 0. 0. 0. 0. 0. 0. 0. 0. 0. 0. 1. 0. 0. 0. 0. 0. 0. 0. 0. 0. 0. 0.\n",
      " 0. 0. 0. 0. 0. 0. 0. 0. 0. 0. 0.]\n"
     ]
    }
   ],
   "source": [
    "# Find the \"site vector\" for a specific site, according to the Jack article\n",
    "\n",
    "def hollow_site_vector(surface, site_x, site_y):\n",
    "    # First encode the 3 neighbours\n",
    "    close_3s = [surface[(site_x+1) % 100, site_y, 0], surface[site_x, (site_y+1) % 100, 0], surface[(site_x+1) % 100, (site_y+1) % 100, 0]]\n",
    "    close_3s = \"\".join(sorted(close_3s))\n",
    "    idx = three_metals_combinations.index(close_3s)\n",
    "    close_3s = np.zeros(35)\n",
    "    close_3s[idx] = 1\n",
    "    \n",
    "    # Then the next neighbours (green)\n",
    "    greens = [surface[(site_x+2) % 100, site_y, 0], surface[site_x, (site_y+2) % 100, 0], surface[site_x, site_y, 0]]\n",
    "    greens_count = [greens.count(metals[n]) for n in range(len(metals))]\n",
    "    \n",
    "    # Then the next neighbours (brown)\n",
    "    browns = [surface[(site_x) % 100, (site_y) % 100, 0], surface[(site_x) % 100, (site_y) % 100, 0], surface[(site_x) % 100, (site_y) % 100, 0], surface[(site_x) % 100, (site_y) % 100, 0], surface[(site_x) % 100, (site_y) % 100, 0], surface[(site_x) % 100, (site_y) % 100, 0]]\n",
    "    # Kunne gøres smartede med list comprehension og to lister med +- zipped\n",
    "    return None\n",
    "\n",
    "hollow_site_vector(surface, site_x, site_y)"
   ]
  },
  {
   "cell_type": "code",
   "execution_count": null,
   "id": "a89e3fb8",
   "metadata": {},
   "outputs": [],
   "source": []
  }
 ],
 "metadata": {
  "kernelspec": {
   "display_name": "Python 3 (ipykernel)",
   "language": "python",
   "name": "python3"
  },
  "language_info": {
   "codemirror_mode": {
    "name": "ipython",
    "version": 3
   },
   "file_extension": ".py",
   "mimetype": "text/x-python",
   "name": "python",
   "nbconvert_exporter": "python",
   "pygments_lexer": "ipython3",
   "version": "3.10.8"
  }
 },
 "nbformat": 4,
 "nbformat_minor": 5
}
