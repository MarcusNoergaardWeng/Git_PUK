{
 "cells": [
  {
   "cell_type": "markdown",
   "id": "89256149",
   "metadata": {},
   "source": [
    "## Using energy prediction models on simulated surfaces"
   ]
  },
  {
   "cell_type": "code",
   "execution_count": 1,
   "id": "034d8054",
   "metadata": {},
   "outputs": [],
   "source": [
    "import warnings\n",
    "warnings.filterwarnings('ignore')\n",
    "\n",
    "import xgboost as xgb\n",
    "import numpy as np\n",
    "import pandas as pd\n",
    "import time\n",
    "import matplotlib.pyplot as plt"
   ]
  },
  {
   "cell_type": "markdown",
   "id": "d00d6545",
   "metadata": {},
   "source": [
    "#### Load energy prediction model for hollow site and on-top site"
   ]
  },
  {
   "cell_type": "code",
   "execution_count": 2,
   "id": "55afec1e",
   "metadata": {},
   "outputs": [],
   "source": [
    "hollow_site_model = xgb.Booster({'nthread': 4})\n",
    "hollow_site_model.load_model(\"../models/\"+\"Hollow_site.model\")\n",
    "\n",
    "on_top_site_model = xgb.Booster({'nthread': 4})\n",
    "on_top_site_model.load_model(\"../models/\"+\"on_top_site.model\")"
   ]
  },
  {
   "cell_type": "code",
   "execution_count": 3,
   "id": "47eedb76",
   "metadata": {},
   "outputs": [],
   "source": [
    "# Make a 100x100x3 surface with an even distribution of the five metals\n",
    "def simulate_surface(dim_x, dim_y): #Is still random - could be used with a seed in the name of reproduceability\n",
    "    #dim_x, dim_y, dim_z = 100, 100, 3 #Specify dimensions\n",
    "    dim_z = 3\n",
    "    surface_list = np.array([int(dim_x*dim_y*dim_z/len(metals))*[metals[metal_number]] for metal_number in range(len(metals))]).flatten() #Jack had a way shorter way of doing this, but I think it was random drawing instead of ensuring a perfectly even split\n",
    "    np.random.shuffle(surface_list) #Shuffle list\n",
    "    surface = np.reshape(surface_list, (dim_x, dim_y, dim_z)) #Reshape list to the\n",
    "    return surface\n",
    "\n",
    "def on_top_site_vector(surface, site_x, site_y):\n",
    "    \n",
    "    site1 = [surface[site_x, site_y, 0]]# Make a one-hot encoded vector of the very site here! Add at the beginning\n",
    "    site1_count = [site1.count(metals[n]) for n in range(len(metals))]\n",
    "    \n",
    "    top6 = [surface[site_x % 100, (site_y-1) % 100, 0], surface[site_x % 100, (site_y+1) % 100, 0], surface[(site_x-1) % 100, site_y % 100, 0], surface[(site_x+1) % 100, site_y % 100, 0], surface[(site_x-1) % 100, (site_y+1) % 100, 0], surface[(site_x+1) % 100, (site_y-1) % 100, 0]]\n",
    "    top6_count = [top6.count(metals[n]) for n in range(len(metals))]\n",
    "    \n",
    "    mid3 = [surface[(site_x-1) % 100, (site_y-1) % 100,1], surface[site_x % 100, (site_y-1) % 100,1], surface[(site_x-1) % 100, site_y % 100,1]]\n",
    "    mid3_count = [mid3.count(metals[n]) for n in range(len(metals))]\n",
    "    \n",
    "    bot3 = [surface[(site_x-1) % 100, (site_y-1) % 100, 2], surface[(site_x-1) % 100, (site_y+1) % 100, 2], surface[(site_x+1) % 100, (site_y-1) % 100, 2]]\n",
    "    bot3_count = [bot3.count(metals[n]) for n in range(len(metals))]\n",
    "    \n",
    "    return site1_count + top6_count + mid3_count + bot3_count\n",
    "\n",
    "metals = ['Ag', 'Au', 'Cu', 'Pd', 'Pt']\n",
    "three_metals_combinations = [] #List of possible combinations of the three\n",
    "# Der skal være 35, ikke 125\n",
    "\n",
    "for a in metals:\n",
    "    for b in metals:\n",
    "        for c in metals:\n",
    "            three_metals_combinations.append(''.join(sorted([a, b, c])))\n",
    "            \n",
    "# Remove duplicates\n",
    "three_metals_combinations = list(dict.fromkeys(three_metals_combinations)) # Let's encode it in a better way later\n",
    "\n",
    "def hollow_site_vector(surface, site_x, site_y, adsorbate): #Now with adsorbate encoding\n",
    "    \n",
    "    if adsorbate == \"H\":\n",
    "        ads = [0]\n",
    "    elif adsorbate == \"O\":\n",
    "        ads = [1]\n",
    "    \n",
    "    # First encode the 3 neighbours\n",
    "    blues = [surface[(site_x+1) % 100, site_y, 0], surface[site_x, (site_y+1) % 100, 0], surface[(site_x+1) % 100, (site_y+1) % 100, 0]]\n",
    "    blues = \"\".join(sorted(blues))\n",
    "    idx = three_metals_combinations.index(blues)\n",
    "    blues = 35*[0]\n",
    "    blues[idx] = 1\n",
    "    \n",
    "    # Then the next neighbours (green)\n",
    "    greens = [surface[(site_x+2) % 100, site_y, 0], surface[site_x, (site_y+2) % 100, 0], surface[site_x, site_y, 0]]\n",
    "    greens_count = [greens.count(metals[n]) for n in range(len(metals))]\n",
    "    \n",
    "    # Then the next neighbours (brown) # Kunne gøres smartere med list comprehension og to lister med +- zipped\n",
    "    browns = [surface[(site_x + a) % 100, (site_y + b) % 100, c] for a, b, c in zip([1, 2, 2, 1, -1, -1], [2, 1, -1, -1, 1, 2], [0, 0, 0, 0, 0, 0])]\n",
    "    browns_count = [browns.count(metals[n]) for n in range(len(metals))]\n",
    "    \n",
    "    # Then the three downstairs neighbours\n",
    "    yellows = [surface[(site_x + a) % 100, (site_y + b) % 100, c] for a, b, c in zip([0, 1, 0], [0, 0, 1], [1, 1, 1])]\n",
    "    yellows_count = [yellows.count(metals[n]) for n in range(len(metals))]\n",
    "    \n",
    "    # Then the purples downstairs\n",
    "    purples = [surface[(site_x + a) % 100, (site_y + b) % 100, c] for a, b, c in zip([1, -1, 1], [-1, 1, 1], [1, 1, 1])]\n",
    "    purples_count = [purples.count(metals[n]) for n in range(len(metals))]\n",
    "    \n",
    "    return ads + blues + greens_count + browns_count + yellows_count + purples_count\n",
    "\n",
    "def pandas_to_DMatrix(df):\n",
    "    label = pd.DataFrame(np.random.randint(2, size=len(df)))\n",
    "    DMatrix = xgb.DMatrix(df, label=label)\n",
    "    return DMatrix\n",
    "\n",
    "def pandas_to_DMatrix(df):#, label):\n",
    "    label = pd.DataFrame(np.random.randint(2, size=len(df)))\n",
    "    DMatrix = xgb.DMatrix(df)#, label=label)\n",
    "    return DMatrix\n"
   ]
  },
  {
   "cell_type": "markdown",
   "id": "52abeeaf",
   "metadata": {},
   "source": [
    "### Create surface\n",
    "\n",
    "The five metals used are (in alphabetical order): Ag, Au, Cu, Pd, Pt. A 100x100 surface in three layers with an even metal-distribution is created in a simple NumPy array. "
   ]
  },
  {
   "cell_type": "code",
   "execution_count": 4,
   "id": "de21a670",
   "metadata": {},
   "outputs": [],
   "source": [
    "dim_x, dim_y = 1000, 1000\n",
    "surface = simulate_surface(dim_x, dim_y)"
   ]
  },
  {
   "cell_type": "markdown",
   "id": "871b00ab",
   "metadata": {},
   "source": [
    "## Predict energies of all surface sites\n",
    "\n",
    "I will use the combined H and O model for **hollow sites** model for all hollow sites and the OH model for **on-top** sites"
   ]
  },
  {
   "cell_type": "code",
   "execution_count": 5,
   "id": "baa6353c",
   "metadata": {},
   "outputs": [
    {
     "name": "stdout",
     "output_type": "stream",
     "text": [
      "I predicted the energy of every adsorbate on every feasible site on a 1000x1000 surface, resulting in 3000000 energies. It took 48.18 seconds\n"
     ]
    }
   ],
   "source": [
    "t1 = time.time()\n",
    "# Find all sites in x,y\n",
    "sites_list = []\n",
    "for site_x in range(dim_x): #Looping through all on top sites\n",
    "    for site_y in range(dim_y):\n",
    "        sites_list.append([site_x, site_y])\n",
    "\n",
    "# Make all feature vectors for all on-top and hollow sites\n",
    "all_on_top_OH_df = pd.DataFrame([on_top_site_vector(surface, site_x, site_y) for site_x, site_y in sites_list], columns = [f\"feature{n}\" for n in range(20)])\n",
    "all_hollow_H_df  = pd.DataFrame([hollow_site_vector(surface, site_x, site_y, adsorbate = \"H\") for site_x, site_y in sites_list], columns = [f\"feature{n}\" for n in range(56)])\n",
    "all_hollow_O_df  = pd.DataFrame([hollow_site_vector(surface, site_x, site_y, adsorbate = \"O\") for site_x, site_y in sites_list], columns = [f\"feature{n}\" for n in range(56)])\n",
    "# I forgot to add 0 for H and 1 for O in front of the vector\n",
    "all_on_top_OH_DM = pandas_to_DMatrix(all_on_top_OH_df)#, label = [f\"feature{n}\" for n in range(20)])\n",
    "all_hollow_H_DM  = pandas_to_DMatrix(all_hollow_H_df)#, label = [f\"feature{n}\" for n in range(55)])\n",
    "all_hollow_O_DM  = pandas_to_DMatrix(all_hollow_O_df)#, label = [f\"feature{n}\" for n in range(55)])\n",
    "\n",
    "## Predict energies of all sites\n",
    "OH_Energies = on_top_site_model.predict(all_on_top_OH_DM)\n",
    "H_Energies = hollow_site_model.predict(all_hollow_H_DM)\n",
    "O_Energies = hollow_site_model.predict(all_hollow_O_DM)\n",
    "All_Energies = np.concatenate((OH_Energies, H_Energies, O_Energies))\n",
    "print(f\"I predicted the energy of every adsorbate on every feasible site on a {dim_x}x{dim_y} surface, resulting in {dim_x*dim_y*3} energies. It took {time.time() - t1:.2f} seconds\")\n"
   ]
  },
  {
   "cell_type": "markdown",
   "id": "d22e8474",
   "metadata": {},
   "source": [
    "## Plot all energies from the adsorbates"
   ]
  },
  {
   "cell_type": "code",
   "execution_count": 11,
   "id": "7aebf011",
   "metadata": {},
   "outputs": [
    {
     "data": {
      "image/png": "[encoded data removed]",
      "text/plain": [
       "<Figure size 700x500 with 1 Axes>"
      ]
     },
     "metadata": {},
     "output_type": "display_data"
    }
   ],
   "source": [
    "# Initiate plot\n",
    "fig, ax = plt.subplots(1, 1, figsize = (7, 5))\n",
    "\n",
    "# Plot histograms\n",
    "ax.hist(H_Energies , bins=np.arange(-0.2, 2.8, 0.019), ec = \"black\", color = \"tab:green\", histtype = \"stepfilled\", density=False, alpha=0.7,label = \"H\")\n",
    "ax.hist(OH_Energies, bins=np.arange(-0.2, 2.8, 0.019), ec = \"black\", color = \"tab:blue\" , histtype = \"stepfilled\", density=False, alpha=0.7,label = \"OH\")\n",
    "ax.hist(O_Energies , bins=np.arange(-0.2, 2.8, 0.019), ec = \"black\", color = \"tab:red\"  , histtype = \"stepfilled\", density=False, alpha=0.7,label = \"O\")\n",
    "\n",
    "ax.hist(All_Energies , bins=np.arange(-0.2, 2.8, 0.019), ec = \"black\", color = \"tab:red\"  , histtype = \"step\", density=False, alpha=1.0,label = \"All adsorbates\")\n",
    "# Maybe do a sum that is transparent, but has stepfill\n",
    "\n",
    "ax.legend()\n",
    "\n",
    "ax.set_title(\"Predicted $\\Delta G_{*Adsorbate}^{Pred} (eV)$ for all sites and three adsorbates\\n on simulated 1000x1000 HEA surface\")\n",
    "ax.set_xlabel(\"$\\Delta G_{Adsorbate}^{Pred} (eV)$\")\n",
    "ax.set_ylabel(\"Frequency\")\n",
    "\n",
    "ax.tick_params(axis='y', which='major', left=False, labelleft=False)\n",
    "\n",
    "# Make text at each peak to show the reaction happening\n",
    "if False:\n",
    "    ax.text(x, y, \"$H^{}$\")\n",
    "\n",
    "#plt.savefig(\"../figures/phase_diagram_1000.png\", dpi = 300, bbox_inches = \"tight\")\n",
    "fig.show()"
   ]
  },
  {
   "cell_type": "code",
   "execution_count": null,
   "id": "8fa7d122",
   "metadata": {},
   "outputs": [],
   "source": [
    "    ax1.legend(frameon=False,\n",
    "          bbox_to_anchor=[0.45, 0.0],\n",
    "          loc='lower left',\n",
    "          handletextpad=0.2,\n",
    "          handlelength=1.0,\n",
    "          labelspacing=0.2,\n",
    "          borderaxespad=0.1,\n",
    "          markerscale=1.5,\n",
    "          fontsize=fontsize-5)\n",
    "    \n",
    "    , bins=np.arange(-0.6, 0.6, 0.05),\n",
    "          color=\"deepskyblue\",\n",
    "          density=True,\n",
    "          alpha=0.7,\n",
    "          histtype='stepfilled',\n",
    "          ec='black',\n",
    "          lw=lw)"
   ]
  },
  {
   "cell_type": "markdown",
   "id": "250c3073",
   "metadata": {},
   "source": [
    "## Treat the phase diagram to arrive at CYCLIC VOLTAMMOGRAMS\n",
    "\n",
    "Use the MAE or standard deviation on the predictions on the delta G's in the KDE's. Maybe varying this will yield different CV's. Fiddle with this to see what works best. I could also make a million billion points from a hyge surface."
   ]
  },
  {
   "cell_type": "code",
   "execution_count": null,
   "id": "773447ac",
   "metadata": {},
   "outputs": [],
   "source": []
  },
  {
   "cell_type": "markdown",
   "id": "dde31dd1",
   "metadata": {},
   "source": [
    "#### The dump"
   ]
  },
  {
   "cell_type": "code",
   "execution_count": null,
   "id": "e4763620",
   "metadata": {},
   "outputs": [],
   "source": [
    "# Use both models on all sites\n",
    "for site_x in range(100): #Looping through all on top sites\n",
    "    for site_y in range(100):\n",
    "        \n",
    "        # Create vector for on-top site\n",
    "        on_top_vec = on_top_site_vector(surface, site_x, site_y)\n",
    "        \n",
    "        # Create vector for hollow site / fcc site\n",
    "        hollow_site_vec = hollow_site_vector(surface, site_x, site_y)\n",
    "        \n",
    "        #Prepare vectors for XGBoost\n",
    "        on_top_vec = xgb.DMatrix(data = np.array([on_top_vec]), label = np.array([0 for n in range(len(on_top_vec))]))\n",
    "        hollow_site_vec = xgb.DMatrix(data = np.array([hollow_site_vec]), label = np.array([0 for n in range(len(hollow_site_vec))]))\n",
    "        \n",
    "        # CALCULATE ENERGY HERE! FOR ALL REACTIONS\n",
    "        on_top_energy = on_top_site_model.predict(on_top_vec)\n",
    "        hollow_site_energy = hollow_site_model.predict(hollow_site_vec)\n",
    "        \n",
    "        # which we actually need models for. I think we only have a model for OH eller O\n",
    "        # When you get here, you need to make simple models for all three adsorbates\n",
    "\n",
    "# Plot all energies in nice colours like the parity plot"
   ]
  },
  {
   "cell_type": "code",
   "execution_count": null,
   "id": "e1f26f18",
   "metadata": {},
   "outputs": [],
   "source": [
    "on_top_vec = on_top_site_vector(surface, site_x, site_y)\n",
    "print(xgb.DMatrix(data = np.array([on_top_vec]), label = np.array([0 for n in range(len(on_top_vec))])))\n",
    "#on_top_site_model.predict(np.array(on_top_vec))"
   ]
  }
 ],
 "metadata": {
  "kernelspec": {
   "display_name": "Python 3 (ipykernel)",
   "language": "python",
   "name": "python3"
  },
  "language_info": {
   "codemirror_mode": {
    "name": "ipython",
    "version": 3
   },
   "file_extension": ".py",
   "mimetype": "text/x-python",
   "name": "python",
   "nbconvert_exporter": "python",
   "pygments_lexer": "ipython3",
   "version": "3.10.8"
  }
 },
 "nbformat": 4,
 "nbformat_minor": 5
}
