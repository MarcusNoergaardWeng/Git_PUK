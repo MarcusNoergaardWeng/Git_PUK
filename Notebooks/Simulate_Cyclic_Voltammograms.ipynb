{
 "cells": [
  {
   "cell_type": "markdown",
   "id": "e096a870",
   "metadata": {},
   "source": [
    "# Simulating Cyclic Voltammograms\n",
    "\n",
    "In this notebook, Cyclic Voltammograms are simulated by varying voltage while keeping track of adsorbates"
   ]
  },
  {
   "cell_type": "code",
   "execution_count": 1,
   "id": "c1e435a4",
   "metadata": {},
   "outputs": [],
   "source": [
    "#### Import packages\n",
    "import warnings\n",
    "warnings.filterwarnings('ignore')\n",
    "\n",
    "import sys\n",
    "import xgboost as xgb\n",
    "import numpy as np\n",
    "import pandas as pd\n",
    "import time\n",
    "import matplotlib.pyplot as plt\n",
    "from tqdm.notebook import tqdm\n",
    "\n",
    "#### Import functions from PUK.py\n",
    "sys.path.append('../scripts')\n",
    "from PUK import on_top_site_vector, hollow_site_vector, pandas_to_DMatrix, pandas_to_DMatrix, surface_to_energies, energies_to_charge_isoterm, charge_isoterm_to_CV, rolling_average_smoothing, surface_to_CV, surface_composition, super_surface_plot, create_surface, plot_voltammograms, create_empty_adsorbates, surface_to_energies_matrices, argmin2d, find_smallest_energy, count_adsorbates\n"
   ]
  },
  {
   "cell_type": "code",
   "execution_count": 2,
   "id": "56fdd817",
   "metadata": {},
   "outputs": [],
   "source": [
    "#### Load models\n",
    "hollow_site_model = xgb.Booster({'nthread': 4})\n",
    "hollow_site_model.load_model(\"../models/\"+\"Hollow_site.model\")\n",
    "\n",
    "on_top_site_model = xgb.Booster({'nthread': 4})\n",
    "on_top_site_model.load_model(\"../models/\"+\"on_top_site.model\")"
   ]
  },
  {
   "cell_type": "markdown",
   "id": "7892e685",
   "metadata": {},
   "source": [
    "## Simulate surface"
   ]
  },
  {
   "cell_type": "code",
   "execution_count": 3,
   "id": "4e94e43e",
   "metadata": {},
   "outputs": [
    {
     "name": "stdout",
     "output_type": "stream",
     "text": [
      "{'empty': 20000}\n"
     ]
    }
   ],
   "source": [
    "#### Simulate surface (and matrices for keeping track of the adsorbates (both hollow and on-top))\n",
    "metals = ['Ag', 'Au', 'Cu', 'Pd', 'Pt']\n",
    "dim_x, dim_y = 100, 100\n",
    "surface = create_surface(metals, dim_x, dim_y, \"Even\")\n",
    "adsorbates_hollow, adsorbates_on_top = create_empty_adsorbates(dim_x, dim_y)\n",
    "\n",
    "potential = 0.5\n",
    "\n",
    "print(count_adsorbates(adsorbates_hollow, adsorbates_on_top))"
   ]
  },
  {
   "cell_type": "code",
   "execution_count": 4,
   "id": "39f57150",
   "metadata": {
    "scrolled": false
   },
   "outputs": [
    {
     "name": "stdout",
     "output_type": "stream",
     "text": [
      "Potential: -1.50 V\n",
      "{'H': 10000, 'empty': 10000}\n",
      "Potential: -1.47 V\n",
      "{'O': 10000, 'empty': 10000}\n",
      "Potential: -1.44 V\n",
      "{'H': 10000, 'empty': 10000}\n",
      "Potential: -1.41 V\n",
      "{'O': 10000, 'empty': 10000}\n",
      "Potential: -1.38 V\n",
      "{'H': 10000, 'empty': 10000}\n",
      "Potential: -1.35 V\n",
      "{'O': 10000, 'empty': 10000}\n",
      "Potential: -1.32 V\n",
      "{'H': 10000, 'empty': 10000}\n",
      "Potential: -1.29 V\n",
      "{'O': 10000, 'empty': 10000}\n",
      "Potential: -1.26 V\n",
      "{'H': 10000, 'empty': 10000}\n",
      "Potential: -1.23 V\n",
      "{'O': 10000, 'empty': 10000}\n",
      "Potential: -1.20 V\n",
      "{'H': 10000, 'empty': 10000}\n",
      "Potential: -1.17 V\n",
      "{'O': 10000, 'empty': 10000}\n",
      "Potential: -1.14 V\n",
      "{'H': 10000, 'empty': 10000}\n",
      "Potential: -1.11 V\n",
      "{'O': 10000, 'empty': 10000}\n",
      "Potential: -1.08 V\n",
      "{'H': 10000, 'empty': 10000}\n",
      "Potential: -1.05 V\n",
      "{'O': 10000, 'empty': 10000}\n",
      "Potential: -1.02 V\n",
      "{'H': 10000, 'empty': 10000}\n",
      "Potential: -0.98 V\n",
      "{'O': 10000, 'empty': 10000}\n",
      "Potential: -0.95 V\n",
      "{'H': 10000, 'empty': 10000}\n",
      "Potential: -0.92 V\n",
      "{'O': 10000, 'empty': 10000}\n",
      "Potential: -0.89 V\n",
      "{'H': 10000, 'empty': 10000}\n",
      "Potential: -0.86 V\n",
      "{'O': 10000, 'empty': 10000}\n",
      "Potential: -0.83 V\n",
      "{'H': 10000, 'empty': 10000}\n",
      "Potential: -0.80 V\n",
      "{'O': 10000, 'empty': 10000}\n",
      "Potential: -0.77 V\n",
      "{'H': 10000, 'empty': 10000}\n",
      "Potential: -0.74 V\n",
      "{'O': 9999, 'empty': 10001}\n",
      "Potential: -0.71 V\n",
      "{'H': 9995, 'empty': 10005}\n",
      "Potential: -0.68 V\n",
      "{'O': 9982, 'empty': 10018}\n",
      "Potential: -0.65 V\n",
      "{'H': 9945, 'empty': 10055}\n",
      "Potential: -0.62 V\n",
      "{'O': 9856, 'empty': 10144}\n",
      "Potential: -0.59 V\n",
      "{'H': 9729, 'empty': 10271}\n",
      "Potential: -0.56 V\n",
      "{'O': 9583, 'empty': 10417}\n",
      "Potential: -0.53 V\n",
      "{'H': 9343, 'empty': 10657}\n",
      "Potential: -0.50 V\n",
      "{'O': 9061, 'empty': 10939}\n",
      "Potential: -0.47 V\n",
      "{'H': 8753, 'empty': 11247}\n",
      "Potential: -0.44 V\n",
      "{'O': 8464, 'empty': 11536}\n",
      "Potential: -0.41 V\n",
      "{'H': 8264, 'empty': 11736}\n",
      "Potential: -0.38 V\n",
      "{'O': 8054, 'empty': 11946}\n",
      "Potential: -0.35 V\n",
      "{'H': 7869, 'empty': 12131}\n",
      "Potential: -0.32 V\n",
      "{'O': 7584, 'empty': 12416}\n",
      "Potential: -0.29 V\n",
      "{'H': 7212, 'empty': 12788}\n",
      "Potential: -0.26 V\n",
      "{'O': 6817, 'empty': 13183}\n",
      "Potential: -0.23 V\n",
      "{'H': 6444, 'empty': 13556}\n",
      "Potential: -0.20 V\n",
      "{'O': 6048, 'empty': 13952}\n",
      "Potential: -0.17 V\n",
      "{'H': 5465, 'empty': 14535}\n",
      "Potential: -0.14 V\n",
      "{'O': 4639, 'empty': 15361}\n",
      "Potential: -0.11 V\n",
      "{'H': 3655, 'empty': 16345}\n",
      "Potential: -0.08 V\n",
      "{'O': 2874, 'empty': 17126}\n",
      "Potential: -0.05 V\n",
      "{'H': 2324, 'empty': 17676}\n",
      "Potential: -0.02 V\n",
      "{'O': 1791, 'empty': 18209}\n",
      "Potential: 0.02 V\n",
      "{'H': 1244, 'empty': 18756}\n",
      "Potential: 0.05 V\n",
      "{'O': 604, 'empty': 19396}\n",
      "Potential: 0.08 V\n",
      "{'H': 238, 'empty': 19762}\n",
      "Potential: 0.11 V\n"
     ]
    },
    {
     "ename": "KeyboardInterrupt",
     "evalue": "",
     "output_type": "error",
     "traceback": [
      "\u001b[0;31m---------------------------------------------------------------------------\u001b[0m",
      "\u001b[0;31mKeyboardInterrupt\u001b[0m                         Traceback (most recent call last)",
      "Cell \u001b[0;32mIn [4], line 36\u001b[0m\n\u001b[1;32m     34\u001b[0m smallest_energy \u001b[38;5;241m=\u001b[39m \u001b[38;5;241m-\u001b[39m\u001b[38;5;241m1\u001b[39m \u001b[38;5;66;03m#Just initially to get the while loop going\u001b[39;00m\n\u001b[1;32m     35\u001b[0m \u001b[38;5;28;01mwhile\u001b[39;00m smallest_energy \u001b[38;5;241m<\u001b[39m \u001b[38;5;241m0\u001b[39m:\n\u001b[0;32m---> 36\u001b[0m     idx_x, idx_y, smallest_energy, adsorbate \u001b[38;5;241m=\u001b[39m \u001b[43mfind_smallest_energy\u001b[49m\u001b[43m(\u001b[49m\u001b[43mEnergies_matrix\u001b[49m\u001b[43m)\u001b[49m\n\u001b[1;32m     38\u001b[0m     \u001b[38;5;66;03m#Check if the position is occupied:\u001b[39;00m\n\u001b[1;32m     39\u001b[0m     \u001b[38;5;28;01mif\u001b[39;00m ((adsorbate \u001b[38;5;241m==\u001b[39m \u001b[38;5;124m\"\u001b[39m\u001b[38;5;124mH\u001b[39m\u001b[38;5;124m\"\u001b[39m \u001b[38;5;129;01mor\u001b[39;00m adsorbate \u001b[38;5;241m==\u001b[39m \u001b[38;5;124m\"\u001b[39m\u001b[38;5;124mO\u001b[39m\u001b[38;5;124m\"\u001b[39m) \u001b[38;5;129;01mand\u001b[39;00m adsorbates_hollow[idx_x, idx_y] \u001b[38;5;241m!=\u001b[39m \u001b[38;5;124m\"\u001b[39m\u001b[38;5;124mempty\u001b[39m\u001b[38;5;124m\"\u001b[39m) \u001b[38;5;129;01mor\u001b[39;00m (adsorbate \u001b[38;5;241m==\u001b[39m \u001b[38;5;124m\"\u001b[39m\u001b[38;5;124mOH\u001b[39m\u001b[38;5;124m\"\u001b[39m \u001b[38;5;129;01mand\u001b[39;00m adsorbates_on_top[idx_x, idx_y] \u001b[38;5;241m!=\u001b[39m \u001b[38;5;124m\"\u001b[39m\u001b[38;5;124mempty\u001b[39m\u001b[38;5;124m\"\u001b[39m):\n\u001b[1;32m     40\u001b[0m         \u001b[38;5;66;03m# The position was occupied. Remove the energies at this position\u001b[39;00m\n",
      "File \u001b[0;32m~/Documents/Kurser/5_aar/PUK_Katalysekemi/Git_PUK/Notebooks/../scripts/PUK.py:312\u001b[0m, in \u001b[0;36mfind_smallest_energy\u001b[0;34m(Energies_matrix)\u001b[0m\n\u001b[1;32m    310\u001b[0m smallest_adsorbate \u001b[38;5;241m=\u001b[39m \u001b[38;5;124m\"\u001b[39m\u001b[38;5;124mbong\u001b[39m\u001b[38;5;124m\"\u001b[39m\n\u001b[1;32m    311\u001b[0m \u001b[38;5;28;01mfor\u001b[39;00m adsorbate \u001b[38;5;129;01min\u001b[39;00m [\u001b[38;5;124m\"\u001b[39m\u001b[38;5;124mH\u001b[39m\u001b[38;5;124m\"\u001b[39m, \u001b[38;5;124m\"\u001b[39m\u001b[38;5;124mOH\u001b[39m\u001b[38;5;124m\"\u001b[39m, \u001b[38;5;124m\"\u001b[39m\u001b[38;5;124mO\u001b[39m\u001b[38;5;124m\"\u001b[39m]:\n\u001b[0;32m--> 312\u001b[0m     energy \u001b[38;5;241m=\u001b[39m \u001b[43mnp\u001b[49m\u001b[38;5;241;43m.\u001b[39;49m\u001b[43mmin\u001b[49m\u001b[43m(\u001b[49m\u001b[43mEnergies_matrix\u001b[49m\u001b[43m[\u001b[49m\u001b[43madsorbate\u001b[49m\u001b[43m]\u001b[49m\u001b[43m)\u001b[49m\n\u001b[1;32m    313\u001b[0m     x, y \u001b[38;5;241m=\u001b[39m argmin2d(Energies_matrix[adsorbate])\n\u001b[1;32m    314\u001b[0m     \u001b[38;5;28;01mif\u001b[39;00m energy \u001b[38;5;241m<\u001b[39m smallest_energy:\n\u001b[1;32m    315\u001b[0m         \u001b[38;5;66;03m#print(\"I found an energy smaller than 100\")\u001b[39;00m\n",
      "File \u001b[0;32m<__array_function__ internals>:180\u001b[0m, in \u001b[0;36mamin\u001b[0;34m(*args, **kwargs)\u001b[0m\n",
      "File \u001b[0;32m~/miniforge3/envs/PUK/lib/python3.10/site-packages/numpy/core/fromnumeric.py:2918\u001b[0m, in \u001b[0;36mamin\u001b[0;34m(a, axis, out, keepdims, initial, where)\u001b[0m\n\u001b[1;32m   2802\u001b[0m \u001b[38;5;129m@array_function_dispatch\u001b[39m(_amin_dispatcher)\n\u001b[1;32m   2803\u001b[0m \u001b[38;5;28;01mdef\u001b[39;00m \u001b[38;5;21mamin\u001b[39m(a, axis\u001b[38;5;241m=\u001b[39m\u001b[38;5;28;01mNone\u001b[39;00m, out\u001b[38;5;241m=\u001b[39m\u001b[38;5;28;01mNone\u001b[39;00m, keepdims\u001b[38;5;241m=\u001b[39mnp\u001b[38;5;241m.\u001b[39m_NoValue, initial\u001b[38;5;241m=\u001b[39mnp\u001b[38;5;241m.\u001b[39m_NoValue,\n\u001b[1;32m   2804\u001b[0m          where\u001b[38;5;241m=\u001b[39mnp\u001b[38;5;241m.\u001b[39m_NoValue):\n\u001b[1;32m   2805\u001b[0m     \u001b[38;5;124;03m\"\"\"\u001b[39;00m\n\u001b[1;32m   2806\u001b[0m \u001b[38;5;124;03m    Return the minimum of an array or minimum along an axis.\u001b[39;00m\n\u001b[1;32m   2807\u001b[0m \n\u001b[0;32m   (...)\u001b[0m\n\u001b[1;32m   2916\u001b[0m \u001b[38;5;124;03m    6\u001b[39;00m\n\u001b[1;32m   2917\u001b[0m \u001b[38;5;124;03m    \"\"\"\u001b[39;00m\n\u001b[0;32m-> 2918\u001b[0m     \u001b[38;5;28;01mreturn\u001b[39;00m \u001b[43m_wrapreduction\u001b[49m\u001b[43m(\u001b[49m\u001b[43ma\u001b[49m\u001b[43m,\u001b[49m\u001b[43m \u001b[49m\u001b[43mnp\u001b[49m\u001b[38;5;241;43m.\u001b[39;49m\u001b[43mminimum\u001b[49m\u001b[43m,\u001b[49m\u001b[43m \u001b[49m\u001b[38;5;124;43m'\u001b[39;49m\u001b[38;5;124;43mmin\u001b[39;49m\u001b[38;5;124;43m'\u001b[39;49m\u001b[43m,\u001b[49m\u001b[43m \u001b[49m\u001b[43maxis\u001b[49m\u001b[43m,\u001b[49m\u001b[43m \u001b[49m\u001b[38;5;28;43;01mNone\u001b[39;49;00m\u001b[43m,\u001b[49m\u001b[43m \u001b[49m\u001b[43mout\u001b[49m\u001b[43m,\u001b[49m\n\u001b[1;32m   2919\u001b[0m \u001b[43m                          \u001b[49m\u001b[43mkeepdims\u001b[49m\u001b[38;5;241;43m=\u001b[39;49m\u001b[43mkeepdims\u001b[49m\u001b[43m,\u001b[49m\u001b[43m \u001b[49m\u001b[43minitial\u001b[49m\u001b[38;5;241;43m=\u001b[39;49m\u001b[43minitial\u001b[49m\u001b[43m,\u001b[49m\u001b[43m \u001b[49m\u001b[43mwhere\u001b[49m\u001b[38;5;241;43m=\u001b[39;49m\u001b[43mwhere\u001b[49m\u001b[43m)\u001b[49m\n",
      "File \u001b[0;32m~/miniforge3/envs/PUK/lib/python3.10/site-packages/numpy/core/fromnumeric.py:86\u001b[0m, in \u001b[0;36m_wrapreduction\u001b[0;34m(obj, ufunc, method, axis, dtype, out, **kwargs)\u001b[0m\n\u001b[1;32m     83\u001b[0m         \u001b[38;5;28;01melse\u001b[39;00m:\n\u001b[1;32m     84\u001b[0m             \u001b[38;5;28;01mreturn\u001b[39;00m reduction(axis\u001b[38;5;241m=\u001b[39maxis, out\u001b[38;5;241m=\u001b[39mout, \u001b[38;5;241m*\u001b[39m\u001b[38;5;241m*\u001b[39mpasskwargs)\n\u001b[0;32m---> 86\u001b[0m \u001b[38;5;28;01mreturn\u001b[39;00m \u001b[43mufunc\u001b[49m\u001b[38;5;241;43m.\u001b[39;49m\u001b[43mreduce\u001b[49m\u001b[43m(\u001b[49m\u001b[43mobj\u001b[49m\u001b[43m,\u001b[49m\u001b[43m \u001b[49m\u001b[43maxis\u001b[49m\u001b[43m,\u001b[49m\u001b[43m \u001b[49m\u001b[43mdtype\u001b[49m\u001b[43m,\u001b[49m\u001b[43m \u001b[49m\u001b[43mout\u001b[49m\u001b[43m,\u001b[49m\u001b[43m \u001b[49m\u001b[38;5;241;43m*\u001b[39;49m\u001b[38;5;241;43m*\u001b[39;49m\u001b[43mpasskwargs\u001b[49m\u001b[43m)\u001b[49m\n",
      "\u001b[0;31mKeyboardInterrupt\u001b[0m: "
     ]
    }
   ],
   "source": [
    "for potential in np.linspace(-1.5, 1.5, 100):\n",
    "    # This is just a single rotation in the whole shebang\n",
    "    print(f\"Potential: {potential:.2f} V\")\n",
    "    H_matrix, OH_matrix, O_matrix = surface_to_energies_matrices(surface, potential, on_top_site_model, hollow_site_model)\n",
    "    Energies_matrix = {\"H\": H_matrix, \"OH\": OH_matrix, \"O\": O_matrix}\n",
    "    \n",
    "    # Look through all adsorbate sites (hollow and on-top)\n",
    "    # If occupied, remove at positive energy (or above hysteresis barrier)\n",
    "    for idx_x in range(dim_x):\n",
    "        for idx_y in range(dim_y):\n",
    "            # Find the adsorbate\n",
    "            hollow_adsorbate = adsorbates_hollow[idx_x, idx_y]\n",
    "            if hollow_adsorbate != \"empty\":\n",
    "                hollow_adsorbate_energy = Energies_matrix[hollow_adsorbate][idx_x, idx_y]\n",
    "                # Korriger for nabo-interaktioner? Ja. Læg noget til energien baseret på antallet af naboer\n",
    "                \n",
    "                if hollow_adsorbate_energy > 0: # Hysteresis could be inserted here\n",
    "                    adsorbates_hollow[idx_x, idx_y] = \"empty\"\n",
    "            \n",
    "            # Find the adsorbate\n",
    "            on_top_adsorbate = adsorbates_on_top[idx_x, idx_y]\n",
    "            if on_top_adsorbate != \"empty\":\n",
    "                on_top_adsorbate_energy = Energies_matrix[on_top_adsorbate][idx_x, idx_y]\n",
    "                # Korriger for nabo-interaktioner?\n",
    "                \n",
    "                if on_top_adsorbate_energy > 0: # Hysteresis could be inserted here\n",
    "                    adsorbates_on_top[idx_x, idx_y] = \"empty\"\n",
    "    \n",
    "    \n",
    "    # Kig igennem energierne ved de frie sites, læg nabo-interaktion-energier til, hvis energien stadig er \n",
    "    # negativ, så sæt den på. Ellers, så erstat energien med et \"no\", så man ikke finder samme energi igen\n",
    "    \n",
    "    # Find smallest energy in all three matrices\n",
    "    smallest_energy = -1 #Just initially to get the while loop going\n",
    "    while smallest_energy < 0:\n",
    "        idx_x, idx_y, smallest_energy, adsorbate = find_smallest_energy(Energies_matrix)\n",
    "        \n",
    "        #Check if the position is occupied:\n",
    "        if ((adsorbate == \"H\" or adsorbate == \"O\") and adsorbates_hollow[idx_x, idx_y] != \"empty\") or (adsorbate == \"OH\" and adsorbates_on_top[idx_x, idx_y] != \"empty\"):\n",
    "            # The position was occupied. Remove the energies at this position\n",
    "            for adsorbate in [\"H\", \"OH\", \"O\"]:\n",
    "                Energies_matrix[adsorbate][idx_x, idx_y] = 100 #Can I not put a string in here?\n",
    "            pass\n",
    "        \n",
    "        # Add neighbor-interaction\n",
    "        \n",
    "        # Remove that energy and put \"checked\" instead no matter what happened before\n",
    "        if smallest_energy < 0: # ADSORPTION\n",
    "            if adsorbate == \"H\" or adsorbate == \"O\":\n",
    "                # Put the adsorbate on the adsorbates matrix\n",
    "                adsorbates_hollow[idx_x, idx_y] = adsorbate\n",
    "                # Remove the energies at this position\n",
    "                for adsorbate in [\"H\", \"OH\", \"O\"]:\n",
    "                    Energies_matrix[adsorbate][idx_x, idx_y] = 100\n",
    "                    \n",
    "    print(count_adsorbates(adsorbates_hollow, adsorbates_on_top))\n"
   ]
  },
  {
   "cell_type": "code",
   "execution_count": 6,
   "id": "91c532e5",
   "metadata": {},
   "outputs": [
    {
     "data": {
      "text/plain": [
       "(57, 42)"
      ]
     },
     "execution_count": 6,
     "metadata": {},
     "output_type": "execute_result"
    }
   ],
   "source": [
    "argmin2d(Energies_matrix[\"OH\"])"
   ]
  },
  {
   "cell_type": "code",
   "execution_count": 7,
   "id": "e7386db8",
   "metadata": {},
   "outputs": [
    {
     "data": {
      "text/plain": [
       "-0.0077173263"
      ]
     },
     "execution_count": 7,
     "metadata": {},
     "output_type": "execute_result"
    }
   ],
   "source": [
    "Energies_matrix[\"OH\"][57, 42]"
   ]
  },
  {
   "cell_type": "code",
   "execution_count": 13,
   "id": "4b707461",
   "metadata": {},
   "outputs": [],
   "source": [
    "if ((adsorbate == \"H\" or adsorbate == \"O\") and adsorbates_hollow[idx_x, idx_y] != \"empty\") or (adsorbate == \"OH\" and adsorbates_on_top[idx_x, idx_y] != \"empty\"):\n",
    "    print(\"yep\")"
   ]
  },
  {
   "cell_type": "code",
   "execution_count": 12,
   "id": "d7cc3660",
   "metadata": {},
   "outputs": [
    {
     "data": {
      "text/plain": [
       "'empty'"
      ]
     },
     "execution_count": 12,
     "metadata": {},
     "output_type": "execute_result"
    }
   ],
   "source": [
    "adsorbates_hollow[idx_x, idx_y]"
   ]
  },
  {
   "cell_type": "code",
   "execution_count": 8,
   "id": "7b34f9d6",
   "metadata": {},
   "outputs": [
    {
     "data": {
      "text/plain": [
       "'OH'"
      ]
     },
     "execution_count": 8,
     "metadata": {},
     "output_type": "execute_result"
    }
   ],
   "source": [
    "adsorbate"
   ]
  },
  {
   "cell_type": "code",
   "execution_count": 5,
   "id": "65b7b09a",
   "metadata": {},
   "outputs": [
    {
     "data": {
      "text/plain": [
       "array([0.        , 0.11111111, 0.22222222, 0.33333333, 0.44444444,\n",
       "       0.55555556, 0.66666667, 0.77777778, 0.88888889, 1.        ])"
      ]
     },
     "execution_count": 5,
     "metadata": {},
     "output_type": "execute_result"
    }
   ],
   "source": [
    "np.linspace(0, 1, 10)"
   ]
  },
  {
   "cell_type": "code",
   "execution_count": null,
   "id": "01952ffc",
   "metadata": {},
   "outputs": [],
   "source": []
  },
  {
   "cell_type": "code",
   "execution_count": 6,
   "id": "b20f8534",
   "metadata": {},
   "outputs": [
    {
     "data": {
      "text/plain": [
       "(200, 100)"
      ]
     },
     "execution_count": 6,
     "metadata": {},
     "output_type": "execute_result"
    }
   ],
   "source": [
    "np.shape(np.concatenate((adsorbates_hollow, adsorbates_on_top)))"
   ]
  },
  {
   "cell_type": "code",
   "execution_count": 7,
   "id": "230c8aa3",
   "metadata": {},
   "outputs": [
    {
     "ename": "ValueError",
     "evalue": "could not convert string to float: 'checked'",
     "output_type": "error",
     "traceback": [
      "\u001b[0;31m---------------------------------------------------------------------------\u001b[0m",
      "\u001b[0;31mValueError\u001b[0m                                Traceback (most recent call last)",
      "Cell \u001b[0;32mIn [7], line 2\u001b[0m\n\u001b[1;32m      1\u001b[0m \u001b[38;5;66;03m# Jeg gad godt vide, hvorfor man ikke kan sætte strings ind her\u001b[39;00m\n\u001b[0;32m----> 2\u001b[0m Energies_matrix[\u001b[38;5;124m\"\u001b[39m\u001b[38;5;124mH\u001b[39m\u001b[38;5;124m\"\u001b[39m][\u001b[38;5;241m96\u001b[39m, \u001b[38;5;241m21\u001b[39m] \u001b[38;5;241m=\u001b[39m \u001b[38;5;124m\"\u001b[39m\u001b[38;5;124mchecked\u001b[39m\u001b[38;5;124m\"\u001b[39m\n",
      "\u001b[0;31mValueError\u001b[0m: could not convert string to float: 'checked'"
     ]
    }
   ],
   "source": [
    "# Jeg gad godt vide, hvorfor man ikke kan sætte strings ind her\n",
    "Energies_matrix[\"H\"][96, 21] = \"checked\""
   ]
  },
  {
   "cell_type": "code",
   "execution_count": null,
   "id": "94f3e45c",
   "metadata": {},
   "outputs": [],
   "source": [
    "potential = 0.5\n",
    "H_matrix, OH_matrix, O_matrix = surface_to_energies_matrices(surface, potential, on_top_site_model, hollow_site_model)\n",
    "Energies_matrix = {\"H\": H_matrix, \"OH\": OH_matrix, \"O\": O_matrix}\n",
    "\n",
    "find_smallest_energy(Energies_matrix)"
   ]
  },
  {
   "cell_type": "code",
   "execution_count": null,
   "id": "073cb48f",
   "metadata": {},
   "outputs": [],
   "source": [
    "# Step 1: Choose a potential\n",
    "initial_potential = 0.5\n",
    "\n",
    "# Step 2: Use the energy-prediction models on all adsorbates on all sites\n",
    "# It would be nice to get a matrix with the energies back\n",
    "\n",
    "# Der skal nok i virkeligheden kigges på hvert site, se hvad der sidder:\n",
    "## hvis der sidder ingenting:\n",
    "### Tjek energien for alle tre, sæt den på, som har den laveste energi\n",
    "\n",
    "### Go through list of numbers in random order - så behøver man kun én gennemgang - nårh nej, men den skal\n",
    "### nok sætte den mindste energi på først. eller hvad.\n",
    "\n",
    "\n",
    "### Man behøver kun regne energier i matrixen ud én gang, efter det er det bare at tjekke naboer! Det gør\n",
    "### Det en del nemmere!\n",
    "\n",
    "### Ahh bare sæt den nederste energi på først og så lige tjek naboer først"
   ]
  }
 ],
 "metadata": {
  "kernelspec": {
   "display_name": "Python 3 (ipykernel)",
   "language": "python",
   "name": "python3"
  },
  "language_info": {
   "codemirror_mode": {
    "name": "ipython",
    "version": 3
   },
   "file_extension": ".py",
   "mimetype": "text/x-python",
   "name": "python",
   "nbconvert_exporter": "python",
   "pygments_lexer": "ipython3",
   "version": "3.10.8"
  }
 },
 "nbformat": 4,
 "nbformat_minor": 5
}
